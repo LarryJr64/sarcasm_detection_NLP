{
 "cells": [
  {
   "cell_type": "markdown",
   "id": "b65ac346",
   "metadata": {},
   "source": [
    "# Sarcasm_NLP"
   ]
  },
  {
   "cell_type": "code",
   "execution_count": 1,
   "id": "578c08a6",
   "metadata": {},
   "outputs": [],
   "source": [
    "import json\n",
    "import pandas as pd\n",
    "import numpy as np\n",
    "import tensorflow as tf\n",
    "import seaborn as sns\n",
    "from stop_words import get_stop_words # nltk doesnt work for me so we use this package\n",
    "from sklearn.linear_model import LogisticRegression\n",
    "from xgboost import XGBClassifier\n",
    "from sklearn.pipeline import make_pipeline\n",
    "import eli5\n",
    "from keras.models import Sequential\n",
    "from keras.layers import LSTM, Dense, Bidirectional, Embedding, Flatten, SpatialDropout1D\n",
    "from keras.initializers import Constant\n",
    "from sklearn.model_selection import train_test_split\n",
    "#from eli5.lime import TextExplainer"
   ]
  },
  {
   "cell_type": "code",
   "execution_count": 2,
   "id": "a7904396",
   "metadata": {},
   "outputs": [
    {
     "name": "stderr",
     "output_type": "stream",
     "text": [
      "C:\\Users\\Claude\\anaconda3\\lib\\site-packages\\past\\builtins\\misc.py:45: DeprecationWarning: the imp module is deprecated in favour of importlib; see the module's documentation for alternative uses\n",
      "  from imp import reload\n"
     ]
    }
   ],
   "source": [
    "import json\n",
    "import pandas as pd\n",
    "import numpy as np\n",
    "import preprocessor as prepro\n",
    "import tqdm \n",
    "import spacy \n",
    "from imblearn.under_sampling import RandomUnderSampler\n",
    "from sklearn.model_selection import train_test_split\n",
    "from sklearn.pipeline import make_pipeline #pipeline creation\n",
    "from sklearn.feature_extraction.text import TfidfVectorizer #transforms text to sparse matrix\n",
    "from sklearn.linear_model import LogisticRegression #Logit model\n",
    "from sklearn.metrics import classification_report #that's self explanatory\n",
    "from sklearn.decomposition import TruncatedSVD #dimensionality reduction\n",
    "from xgboost import XGBClassifier\n",
    "import altair as alt \n",
    "import eli5\n",
    "#from eli5.lime import TextExplainer\n",
    "from gensim.corpora.dictionary import Dictionary # Import the dictionary builder\n",
    "from gensim.models import LdaMulticore # we'll use the faster multicore version of LDA\n",
    "import pyLDAvis\n",
    "import pyLDAvis.gensim_models as gensimvis"
   ]
  },
  {
   "cell_type": "code",
   "execution_count": 121,
   "id": "d64afbf2",
   "metadata": {},
   "outputs": [],
   "source": [
    "import streamlit"
   ]
  },
  {
   "cell_type": "code",
   "execution_count": 3,
   "id": "56dffcdb",
   "metadata": {},
   "outputs": [],
   "source": [
    "data = [json.loads(line) for \n",
    "        line in open(r'D:\\random_projets\\sarcasm_nlp\\Sarcasm_Headlines_Dataset.json', 'r')]"
   ]
  },
  {
   "cell_type": "code",
   "execution_count": 4,
   "id": "b077db90",
   "metadata": {},
   "outputs": [
    {
     "data": {
      "text/plain": [
       "article_link    object\n",
       "headline        object\n",
       "is_sarcastic     int64\n",
       "dtype: object"
      ]
     },
     "execution_count": 4,
     "metadata": {},
     "output_type": "execute_result"
    }
   ],
   "source": [
    "df = pd.DataFrame.from_dict(data) \n",
    "df.dtypes"
   ]
  },
  {
   "cell_type": "code",
   "execution_count": 5,
   "id": "891fe40f",
   "metadata": {},
   "outputs": [],
   "source": [
    "df['headline'] = df['headline'].str.lower()\n",
    "df = df.drop('article_link', axis=1) # drop this useless thing"
   ]
  },
  {
   "cell_type": "code",
   "execution_count": 6,
   "id": "4dfa7a00",
   "metadata": {},
   "outputs": [
    {
     "name": "stdout",
     "output_type": "stream",
     "text": [
      "21954    area man's biggest accomplishment not ever kil...\n",
      "10347    melania trump hosts state dinner in stunning b...\n",
      "20977    opening soda bottle inadvertently makes man loser\n",
      "10326    david blaine starves self of attention for 33 ...\n",
      "10327      neighbor bragging about 20-pound box he fedexed\n",
      "20976    family watches in silence as dad checks out wa...\n",
      "20971    warning on police body camera footage cautions...\n",
      "10335    woman going to take quick break after filling ...\n",
      "10336    republicans give in right before obamacare wou...\n",
      "Name: headline, dtype: object\n"
     ]
    }
   ],
   "source": [
    "print(df.sort_values(by=\"is_sarcastic\", ascending=False).iloc[0:9,0]) # 10 sarcastics sentences"
   ]
  },
  {
   "cell_type": "code",
   "execution_count": 7,
   "id": "6c0451b7",
   "metadata": {
    "scrolled": false
   },
   "outputs": [
    {
     "data": {
      "text/plain": [
       "<AxesSubplot: xlabel='is_sarcastic', ylabel='count'>"
      ]
     },
     "execution_count": 7,
     "metadata": {},
     "output_type": "execute_result"
    },
    {
     "data": {
      "image/png": "[encoded data removed]",
      "text/plain": [
       "<Figure size 640x480 with 1 Axes>"
      ]
     },
     "metadata": {},
     "output_type": "display_data"
    }
   ],
   "source": [
    "sns.countplot(x = df['is_sarcastic'])\n",
    "# 0 stand for not sarcastic\n",
    "# 1 stand for sarcastic \n",
    "# we have a balanced db"
   ]
  },
  {
   "cell_type": "code",
   "execution_count": 8,
   "id": "f2f6999b",
   "metadata": {},
   "outputs": [],
   "source": [
    "stop = get_stop_words('english')"
   ]
  },
  {
   "cell_type": "code",
   "execution_count": 11,
   "id": "166e787d",
   "metadata": {},
   "outputs": [
    {
     "name": "stderr",
     "output_type": "stream",
     "text": [
      "C:\\Users\\Claude\\AppData\\Local\\Temp\\ipykernel_13600\\4033960418.py:2: FutureWarning: The default value of regex will change from True to False in a future version.\n",
      "  df['headline_clean'] = df['headline'].str.replace(pat, '')\n",
      "C:\\Users\\Claude\\AppData\\Local\\Temp\\ipykernel_13600\\4033960418.py:3: FutureWarning: The default value of regex will change from True to False in a future version.\n",
      "  df['headline_clean'] = df['headline_clean'].str.replace(r'\\s+', ' ')\n"
     ]
    }
   ],
   "source": [
    "pat = r'\\b(?:{})\\b'.format('|'.join(stop))\n",
    "df['headline_clean'] = df['headline'].str.replace(pat, '')\n",
    "df['headline_clean'] = df['headline_clean'].str.replace(r'\\s+', ' ')\n",
    "df['headline_clean'] = df['headline_clean'].str.replace(\"'s\", '')\n",
    "df['headline_clean'] = df['headline_clean'].str.replace(\"'\", '')\n",
    "df['headline_clean'] = df['headline_clean'].str.replace(\"s\", '')\n",
    "df['headline_clean'] = df['headline_clean'].str.replace(\"u\", '')"
   ]
  },
  {
   "cell_type": "code",
   "execution_count": 10,
   "id": "f8bd257e",
   "metadata": {},
   "outputs": [],
   "source": [
    "nlp = spacy.load('en_core_web_sm')"
   ]
  },
  {
   "cell_type": "code",
   "execution_count": 26,
   "id": "afa85414",
   "metadata": {},
   "outputs": [
    {
     "name": "stderr",
     "output_type": "stream",
     "text": [
      "100%|█████████████████████████████████████████████████████████████████████████| 26709/26709 [00:20<00:00, 10960.14it/s]"
     ]
    }
   ],
   "source": [
    "clean_text = []\n",
    "\n",
    "pbar = tqdm.tqdm(total=len(df['headline_clean']),position=0, leave=True)\n",
    "for text in nlp.pipe(df['headline_clean'], disable=[\"tagger\", \"parser\", \"ner\"]):\n",
    "\n",
    "  txt = [token.lemma_.lower() for token in text \n",
    "         if token.is_alpha \n",
    "         and not token.is_stop \n",
    "         and not token.is_punct]\n",
    "\n",
    "  clean_text.append(\" \".join(txt))\n",
    "\n",
    "  pbar.update(1)"
   ]
  },
  {
   "cell_type": "code",
   "execution_count": 48,
   "id": "ea5ebf8f",
   "metadata": {},
   "outputs": [],
   "source": [
    "def text_prepro(texts):\n",
    "    texts_clean = texts.replace('#','').replace(r'\\s+', ' ').replace(\"'s\", '').replace(\"s\", '').replace(\"u\", '')\n",
    "\n",
    "    clean_container = []\n",
    "\n",
    "    pbar = tqdm.tqdm(total=len(texts_clean),position=0, leave=True)\n",
    "\n",
    "    for text in nlp.pipe(texts_clean, disable=[\"tagger\", \"parser\", \"ner\"]):\n",
    "\n",
    "        txt = [token.lemma_.lower() for token in text \n",
    "               if token.is_alpha \n",
    "               and not token.is_stop \n",
    "               and not token.is_punct]\n",
    "\n",
    "    clean_container.append(\" \".join(txt))\n",
    "    pbar.update(1)\n",
    "  \n",
    "    return clean_container"
   ]
  },
  {
   "cell_type": "code",
   "execution_count": 28,
   "id": "d748ccf1",
   "metadata": {},
   "outputs": [],
   "source": [
    "df2 = pd.DataFrame({'label':df['is_sarcastic'], 'text':df['headline_clean']})"
   ]
  },
  {
   "cell_type": "code",
   "execution_count": 30,
   "id": "27f33429",
   "metadata": {},
   "outputs": [
    {
     "data": {
      "text/html": [
       "<div>\n",
       "<style scoped>\n",
       "    .dataframe tbody tr th:only-of-type {\n",
       "        vertical-align: middle;\n",
       "    }\n",
       "\n",
       "    .dataframe tbody tr th {\n",
       "        vertical-align: top;\n",
       "    }\n",
       "\n",
       "    .dataframe thead th {\n",
       "        text-align: right;\n",
       "    }\n",
       "</style>\n",
       "<table border=\"1\" class=\"dataframe\">\n",
       "  <thead>\n",
       "    <tr style=\"text-align: right;\">\n",
       "      <th></th>\n",
       "      <th>index</th>\n",
       "      <th>label</th>\n",
       "    </tr>\n",
       "  </thead>\n",
       "  <tbody>\n",
       "    <tr>\n",
       "      <th>0</th>\n",
       "      <td>0</td>\n",
       "      <td>14985</td>\n",
       "    </tr>\n",
       "    <tr>\n",
       "      <th>1</th>\n",
       "      <td>1</td>\n",
       "      <td>11724</td>\n",
       "    </tr>\n",
       "  </tbody>\n",
       "</table>\n",
       "</div>"
      ],
      "text/plain": [
       "   index  label\n",
       "0      0  14985\n",
       "1      1  11724"
      ]
     },
     "execution_count": 30,
     "metadata": {},
     "output_type": "execute_result"
    }
   ],
   "source": [
    "df2.label.value_counts().reset_index()"
   ]
  },
  {
   "cell_type": "code",
   "execution_count": 33,
   "id": "67c0d72e",
   "metadata": {},
   "outputs": [],
   "source": [
    "X_train, X_test, y_train, y_test = train_test_split(df2['text'], df2['label'], test_size = 0.3, random_state = 42)"
   ]
  },
  {
   "cell_type": "code",
   "execution_count": 35,
   "id": "6c7df396",
   "metadata": {},
   "outputs": [],
   "source": [
    "tfidf = TfidfVectorizer()\n",
    "cls = LogisticRegression()\n",
    "pipe = make_pipeline(tfidf, cls)"
   ]
  },
  {
   "cell_type": "code",
   "execution_count": 36,
   "id": "9acd1fa0",
   "metadata": {},
   "outputs": [
    {
     "data": {
      "text/plain": [
       "Pipeline(steps=[('tfidfvectorizer', TfidfVectorizer()),\n",
       "                ('logisticregression', LogisticRegression())])"
      ]
     },
     "execution_count": 36,
     "metadata": {},
     "output_type": "execute_result"
    }
   ],
   "source": [
    "pipe.fit(X_train,y_train)"
   ]
  },
  {
   "cell_type": "code",
   "execution_count": 37,
   "id": "fc0e7375",
   "metadata": {},
   "outputs": [
    {
     "name": "stdout",
     "output_type": "stream",
     "text": [
      "              precision    recall  f1-score   support\n",
      "\n",
      "           0       0.87      0.94      0.90     10541\n",
      "           1       0.91      0.82      0.86      8155\n",
      "\n",
      "    accuracy                           0.88     18696\n",
      "   macro avg       0.89      0.88      0.88     18696\n",
      "weighted avg       0.89      0.88      0.88     18696\n",
      "\n"
     ]
    }
   ],
   "source": [
    "y_eval = pipe.predict(X_train)\n",
    "report = classification_report(y_train, y_eval)\n",
    "print(report)"
   ]
  },
  {
   "cell_type": "code",
   "execution_count": 117,
   "id": "098ad497",
   "metadata": {},
   "outputs": [],
   "source": [
    "testii = ['Women deserve the right to vote for the next president of our nation']"
   ]
  },
  {
   "cell_type": "code",
   "execution_count": 118,
   "id": "19791dad",
   "metadata": {},
   "outputs": [
    {
     "name": "stderr",
     "output_type": "stream",
     "text": [
      "100%|██████████████████████████████████████████████████████████████████████████████████| 1/1 [00:00<00:00, 1001.51it/s]\n"
     ]
    }
   ],
   "source": [
    "testiii = text_prepro(pd.Series(testii))"
   ]
  },
  {
   "cell_type": "code",
   "execution_count": 119,
   "id": "a896e031",
   "metadata": {},
   "outputs": [
    {
     "data": {
      "text/plain": [
       "['women deserve right vote president nation']"
      ]
     },
     "execution_count": 119,
     "metadata": {},
     "output_type": "execute_result"
    }
   ],
   "source": [
    "testiii"
   ]
  },
  {
   "cell_type": "code",
   "execution_count": 120,
   "id": "a77ddc34",
   "metadata": {},
   "outputs": [
    {
     "data": {
      "text/plain": [
       "array([1], dtype=int64)"
      ]
     },
     "execution_count": 120,
     "metadata": {},
     "output_type": "execute_result"
    }
   ],
   "source": [
    "pipe.predict(testii) # this is the model we use to predict stuff"
   ]
  },
  {
   "cell_type": "code",
   "execution_count": 77,
   "id": "c2677c2f",
   "metadata": {
    "scrolled": true
   },
   "outputs": [
    {
     "data": {
      "text/html": [
       "\n",
       "    <style>\n",
       "    table.eli5-weights tr:hover {\n",
       "        filter: brightness(85%);\n",
       "    }\n",
       "</style>\n",
       "\n",
       "\n",
       "\n",
       "    \n",
       "\n",
       "    \n",
       "\n",
       "    \n",
       "\n",
       "    \n",
       "\n",
       "    \n",
       "\n",
       "    \n",
       "\n",
       "\n",
       "    \n",
       "\n",
       "    \n",
       "\n",
       "    \n",
       "\n",
       "    \n",
       "        \n",
       "\n",
       "    \n",
       "\n",
       "        \n",
       "            \n",
       "                \n",
       "                \n",
       "    \n",
       "        <p style=\"margin-bottom: 0.5em; margin-top: 0em\">\n",
       "            <b>\n",
       "    \n",
       "        y=1\n",
       "    \n",
       "</b>\n",
       "\n",
       "top features\n",
       "        </p>\n",
       "    \n",
       "    <table class=\"eli5-weights\"\n",
       "           style=\"border-collapse: collapse; border: none; margin-top: 0em; table-layout: auto; margin-bottom: 2em;\">\n",
       "        <thead>\n",
       "        <tr style=\"border: none;\">\n",
       "            \n",
       "                <th style=\"padding: 0 1em 0 0.5em; text-align: right; border: none;\" title=\"Feature weights. Note that weights do not account for feature value scales, so if feature values have different scales, features with highest weights might not be the most important.\">\n",
       "                    Weight<sup>?</sup>\n",
       "                </th>\n",
       "            \n",
       "            <th style=\"padding: 0 0.5em 0 0.5em; text-align: left; border: none;\">Feature</th>\n",
       "            \n",
       "        </tr>\n",
       "        </thead>\n",
       "        <tbody>\n",
       "        \n",
       "            <tr style=\"background-color: hsl(120, 100.00%, 80.00%); border: none;\">\n",
       "    <td style=\"padding: 0 1em 0 0.5em; text-align: right; border: none;\">\n",
       "        +6.363\n",
       "    </td>\n",
       "    <td style=\"padding: 0 0.5em 0 0.5em; text-align: left; border: none;\">\n",
       "        nation\n",
       "    </td>\n",
       "    \n",
       "</tr>\n",
       "        \n",
       "            <tr style=\"background-color: hsl(120, 100.00%, 80.03%); border: none;\">\n",
       "    <td style=\"padding: 0 1em 0 0.5em; text-align: right; border: none;\">\n",
       "        +6.349\n",
       "    </td>\n",
       "    <td style=\"padding: 0 0.5em 0 0.5em; text-align: left; border: none;\">\n",
       "        area\n",
       "    </td>\n",
       "    \n",
       "</tr>\n",
       "        \n",
       "            <tr style=\"background-color: hsl(120, 100.00%, 81.25%); border: none;\">\n",
       "    <td style=\"padding: 0 1em 0 0.5em; text-align: right; border: none;\">\n",
       "        +5.801\n",
       "    </td>\n",
       "    <td style=\"padding: 0 0.5em 0 0.5em; text-align: left; border: none;\">\n",
       "        man\n",
       "    </td>\n",
       "    \n",
       "</tr>\n",
       "        \n",
       "            <tr style=\"background-color: hsl(120, 100.00%, 82.52%); border: none;\">\n",
       "    <td style=\"padding: 0 1em 0 0.5em; text-align: right; border: none;\">\n",
       "        +5.248\n",
       "    </td>\n",
       "    <td style=\"padding: 0 0.5em 0 0.5em; text-align: left; border: none;\">\n",
       "        report\n",
       "    </td>\n",
       "    \n",
       "</tr>\n",
       "        \n",
       "            <tr style=\"background-color: hsl(120, 100.00%, 85.69%); border: none;\">\n",
       "    <td style=\"padding: 0 1em 0 0.5em; text-align: right; border: none;\">\n",
       "        +3.944\n",
       "    </td>\n",
       "    <td style=\"padding: 0 0.5em 0 0.5em; text-align: left; border: none;\">\n",
       "        tdy\n",
       "    </td>\n",
       "    \n",
       "</tr>\n",
       "        \n",
       "            <tr style=\"background-color: hsl(120, 100.00%, 86.66%); border: none;\">\n",
       "    <td style=\"padding: 0 1em 0 0.5em; text-align: right; border: none;\">\n",
       "        +3.568\n",
       "    </td>\n",
       "    <td style=\"padding: 0 0.5em 0 0.5em; text-align: left; border: none;\">\n",
       "        local\n",
       "    </td>\n",
       "    \n",
       "</tr>\n",
       "        \n",
       "            <tr style=\"background-color: hsl(120, 100.00%, 86.90%); border: none;\">\n",
       "    <td style=\"padding: 0 1em 0 0.5em; text-align: right; border: none;\">\n",
       "        +3.477\n",
       "    </td>\n",
       "    <td style=\"padding: 0 0.5em 0 0.5em; text-align: left; border: none;\">\n",
       "        introdce\n",
       "    </td>\n",
       "    \n",
       "</tr>\n",
       "        \n",
       "            <tr style=\"background-color: hsl(120, 100.00%, 87.33%); border: none;\">\n",
       "    <td style=\"padding: 0 1em 0 0.5em; text-align: right; border: none;\">\n",
       "        +3.313\n",
       "    </td>\n",
       "    <td style=\"padding: 0 0.5em 0 0.5em; text-align: left; border: none;\">\n",
       "        annonce\n",
       "    </td>\n",
       "    \n",
       "</tr>\n",
       "        \n",
       "        \n",
       "            <tr style=\"background-color: hsl(120, 100.00%, 87.33%); border: none;\">\n",
       "                <td colspan=\"2\" style=\"padding: 0 0.5em 0 0.5em; text-align: center; border: none; white-space: nowrap;\">\n",
       "                    <i>&hellip; 9411 more positive &hellip;</i>\n",
       "                </td>\n",
       "            </tr>\n",
       "        \n",
       "\n",
       "        \n",
       "            <tr style=\"background-color: hsl(0, 100.00%, 85.43%); border: none;\">\n",
       "                <td colspan=\"2\" style=\"padding: 0 0.5em 0 0.5em; text-align: center; border: none; white-space: nowrap;\">\n",
       "                    <i>&hellip; 8724 more negative &hellip;</i>\n",
       "                </td>\n",
       "            </tr>\n",
       "        \n",
       "        \n",
       "            <tr style=\"background-color: hsl(0, 100.00%, 85.43%); border: none;\">\n",
       "    <td style=\"padding: 0 1em 0 0.5em; text-align: right; border: none;\">\n",
       "        -4.048\n",
       "    </td>\n",
       "    <td style=\"padding: 0 0.5em 0 0.5em; text-align: left; border: none;\">\n",
       "        donald\n",
       "    </td>\n",
       "    \n",
       "</tr>\n",
       "        \n",
       "            <tr style=\"background-color: hsl(0, 100.00%, 81.89%); border: none;\">\n",
       "    <td style=\"padding: 0 1em 0 0.5em; text-align: right; border: none;\">\n",
       "        -5.523\n",
       "    </td>\n",
       "    <td style=\"padding: 0 0.5em 0 0.5em; text-align: left; border: none;\">\n",
       "        trmp\n",
       "    </td>\n",
       "    \n",
       "</tr>\n",
       "        \n",
       "\n",
       "        </tbody>\n",
       "    </table>\n",
       "\n",
       "            \n",
       "        \n",
       "\n",
       "        \n",
       "\n",
       "\n",
       "\n",
       "    \n",
       "\n",
       "    \n",
       "\n",
       "    \n",
       "\n",
       "    \n",
       "\n",
       "\n",
       "    \n",
       "\n",
       "    \n",
       "\n",
       "    \n",
       "\n",
       "    \n",
       "\n",
       "    \n",
       "\n",
       "    \n",
       "\n",
       "\n",
       "    \n",
       "\n",
       "    \n",
       "\n",
       "    \n",
       "\n",
       "    \n",
       "\n",
       "    \n",
       "\n",
       "    \n",
       "\n",
       "\n",
       "\n"
      ],
      "text/plain": [
       "<IPython.core.display.HTML object>"
      ]
     },
     "execution_count": 77,
     "metadata": {},
     "output_type": "execute_result"
    }
   ],
   "source": [
    "eli5.show_weights(pipe, top=10, target_names=['0','1'])"
   ]
  },
  {
   "cell_type": "code",
   "execution_count": 84,
   "id": "48cb03ff",
   "metadata": {},
   "outputs": [],
   "source": [
    "tokens = []\n",
    "\n",
    "for text in nlp.pipe(df['headline_clean'], disable=[\"ner\"]):\n",
    "    proj_tok = [token.lemma_.lower() for token in text \n",
    "              if token.pos_ in ['NOUN', 'PROPN', 'ADJ', 'ADV'] \n",
    "              and not token.is_stop\n",
    "              and not token.is_punct] \n",
    "    tokens.append(proj_tok)"
   ]
  },
  {
   "cell_type": "code",
   "execution_count": 85,
   "id": "2c773ab3",
   "metadata": {},
   "outputs": [],
   "source": [
    "df['tokens'] = tokens"
   ]
  },
  {
   "cell_type": "code",
   "execution_count": 86,
   "id": "dbc85c43",
   "metadata": {},
   "outputs": [],
   "source": [
    "data_sarcasm = df[df['is_sarcastic'] == 1]"
   ]
  },
  {
   "cell_type": "code",
   "execution_count": 88,
   "id": "6dbc073e",
   "metadata": {},
   "outputs": [],
   "source": [
    "# Create a Dictionary from the articles: dictionary\n",
    "dictionary = Dictionary(data_sarcasm['tokens'])\n",
    "# filter out low-frequency / high-frequency stuff, also limit the vocabulary to max 1000 words\n",
    "dictionary.filter_extremes(no_below=5, no_above=0.5, keep_n=1000)\n",
    "# construct corpus using this dictionary\n",
    "corpus = [dictionary.doc2bow(doc) for doc in data_sarcasm['tokens']]"
   ]
  },
  {
   "cell_type": "code",
   "execution_count": 89,
   "id": "603ef2d0",
   "metadata": {},
   "outputs": [],
   "source": [
    "lda_model = LdaMulticore(corpus, id2word=dictionary, num_topics=10, workers = 4, passes=10)"
   ]
  },
  {
   "cell_type": "code",
   "execution_count": 90,
   "id": "246f92d0",
   "metadata": {},
   "outputs": [
    {
     "name": "stderr",
     "output_type": "stream",
     "text": [
      "C:\\Users\\Claude\\anaconda3\\lib\\site-packages\\pyLDAvis\\_prepare.py:246: FutureWarning: In a future version of pandas all arguments of DataFrame.drop except for the argument 'labels' will be keyword-only.\n",
      "  default_term_info = default_term_info.sort_values(\n"
     ]
    }
   ],
   "source": [
    "lda_display = pyLDAvis.gensim_models.prepare(lda_model, corpus, dictionary)"
   ]
  },
  {
   "cell_type": "code",
   "execution_count": 91,
   "id": "56ffeda0",
   "metadata": {},
   "outputs": [
    {
     "data": {
      "text/html": [
       "\n",
       "<link rel=\"stylesheet\" type=\"text/css\" href=\"https://cdn.jsdelivr.net/gh/bmabey/pyLDAvis@3.3.1/pyLDAvis/js/ldavis.v1.0.0.css\">\n",
       "\n",
       "\n",
       "<div id=\"ldavis_el1360019445412780966692096866\"></div>\n",
       "<script type=\"text/javascript\">\n",
       "\n",
       "var ldavis_el1360019445412780966692096866_data = {\"mdsDat\": {\"x\": [-0.08638697835834352, -0.14002236965878986, 0.15772450161154422, -0.010668089927034195, 0.23026059890093037, -0.09675247517802299, 0.09628125059725107, 0.09940394418551546, -0.12542248960326302, -0.12441789256978826], \"y\": [-0.19010227984468794, 0.14738399511188396, -0.04645020046537401, -0.05885675524582217, 0.06900722511881967, -0.10224400709411882, -0.14484853425354066, 0.17750159764867746, 0.07705861251574633, 0.07155034650841606], \"topics\": [1, 2, 3, 4, 5, 6, 7, 8, 9, 10], \"cluster\": [1, 1, 1, 1, 1, 1, 1, 1, 1, 1], \"Freq\": [11.087985234536388, 11.08706028929097, 11.01478332893205, 10.077405649695873, 9.954122734324457, 9.871589790098824, 9.42812139293011, 9.41492873383291, 9.386679564811807, 8.67732328154661]}, \"tinfo\": {\"Term\": [\"man\", \"new\", \"area\", \"woman\", \"old\", \"year\", \"report\", \"american\", \"family\", \"child\", \"chool\", \"trmp\", \"nation\", \"local\", \"clinton\", \"hoe\", \"right\", \"high\", \"white\", \"campaign\", \"introdce\", \"home\", \"big\", \"gy\", \"dog\", \"party\", \"long\", \"dad\", \"thing\", \"elf\", \"hand\", \"hirt\", \"t\", \"female\", \"mike\", \"mitt\", \"divorce\", \"pence\", \"child\", \"weapon\", \"marine\", \"romney\", \"end\", \"meat\", \"total\", \"taff\", \"peronal\", \"drone\", \"white\", \"hoe\", \"icide\", \"taffer\", \"corporation\", \"debate\", \"letter\", \"bite\", \"ahole\", \"thing\", \"amont\", \"preidential\", \"bh\", \"wife\", \"good\", \"friend\", \"word\", \"ee\", \"mother\", \"ex\", \"college\", \"day\", \"life\", \"biden\", \"jt\", \"obama\", \"clearly\", \"candidate\", \"parent\", \"month\", \"father\", \"trmp\", \"firt\", \"chinee\", \"hillary\", \"grade\", \"hore\", \"clinton\", \"tip\", \"bin\", \"zoo\", \"crew\", \"decade\", \"trck\", \"laden\", \"idiot\", \"hge\", \"face\", \"forth\", \"totally\", \"headqarter\", \"b\", \"completely\", \"economy\", \"fit\", \"interview\", \"hower\", \"area\", \"raie\", \"term\", \"ear\", \"pant\", \"minte\", \"man\", \"lat\", \"town\", \"talk\", \"dek\", \"retarant\", \"night\", \"peron\", \"cople\", \"hot\", \"mall\", \"hor\", \"ceo\", \"idea\", \"middle\", \"life\", \"time\", \"jt\", \"report\", \"plan\", \"family\", \"power\", \"patient\", \"ga\", \"extra\", \"toddler\", \"tff\", \"releaed\", \"airline\", \"albm\", \"drg\", \"releae\", \"port\", \"prevent\", \"qeen\", \"neighbor\", \"elizabeth\", \"prodct\", \"holiday\", \"bo\", \"real\", \"contry\", \"gget\", \"little\", \"fine\", \"traight\", \"perfectly\", \"home\", \"prchae\", \"poplation\", \"orce\", \"report\", \"tar\", \"new\", \"employee\", \"way\", \"air\", \"viit\", \"withot\", \"light\", \"meal\", \"jt\", \"day\", \"grop\", \"book\", \"fan\", \"time\", \"nation\", \"work\", \"money\", \"good\", \"cancer\", \"donald\", \"eric\", \"online\", \"recall\", \"drop\", \"kelly\", \"football\", \"anti\", \"meller\", \"increaingly\", \"abortion\", \"mrder\", \"ander\", \"bernie\", \"committee\", \"porn\", \"chritian\", \"lot\", \"prion\", \"general\", \"cold\", \"congreman\", \"epiode\", \"lead\", \"fll\", \"ddenly\", \"immigrant\", \"trie\", \"precription\", \"gy\", \"red\", \"trmp\", \"cla\", \"entire\", \"rock\", \"nation\", \"film\", \"john\", \"job\", \"hitorical\", \"et\", \"mom\", \"ecretary\", \"bar\", \"teen\", \"bill\", \"middle\", \"thoand\", \"tate\", \"man\", \"day\", \"jt\", \"retrn\", \"time\", \"owner\", \"dog\", \"introdce\", \"york\", \"north\", \"art\", \"rich\", \"previoly\", \"korea\", \"lowly\", \"jong\", \"deep\", \"find\", \"long\", \"kim\", \"bottle\", \"water\", \"athoritie\", \"tat\", \"depreion\", \"wildlife\", \"law\", \"hman\", \"reident\", \"nearly\", \"epa\", \"nveil\", \"tep\", \"eye\", \"prince\", \"cientit\", \"moth\", \"new\", \"tdy\", \"people\", \"majority\", \"crrently\", \"work\", \"coworker\", \"today\", \"dicover\", \"line\", \"office\", \"report\", \"open\", \"world\", \"hot\", \"american\", \"pope\", \"franci\", \"level\", \"vatican\", \"profile\", \"credit\", \"heaven\", \"bnch\", \"door\", \"alert\", \"age\", \"birthday\", \"old\", \"link\", \"reader\", \"fneral\", \"invetigation\", \"yria\", \"need\", \"dead\", \"party\", \"lone\", \"bine\", \"figre\", \"dance\", \"ix\", \"point\", \"ret\", \"mt\", \"neighborhood\", \"national\", \"kid\", \"percent\", \"ingle\", \"free\", \"ecrity\", \"pport\", \"dinner\", \"arond\", \"trn\", \"facebook\", \"bad\", \"time\", \"parent\", \"woman\", \"away\", \"jt\", \"government\", \"game\", \"obama\", \"beatifl\", \"cnn\", \"right\", \"naa\", \"jeb\", \"wahington\", \"department\", \"fear\", \"cia\", \"compter\", \"moon\", \"ean\", \"ahead\", \"director\", \"afghanitan\", \"loer\", \"barely\", \"interior\", \"price\", \"repblican\", \"ign\", \"iraq\", \"large\", \"doctor\", \"coffee\", \"repone\", \"birth\", \"omeone\", \"mart\", \"hold\", \"average\", \"american\", \"finally\", \"poll\", \"tv\", \"leader\", \"ak\", \"movie\", \"qietly\", \"rge\", \"animal\", \"qetion\", \"enogh\", \"ctomer\", \"annonce\", \"tate\", \"room\", \"firt\", \"nation\", \"jt\", \"report\", \"bh\", \"trmp\", \"ed\", \"george\", \"teacher\", \"chool\", \"high\", \"foot\", \"jame\", \"ea\", \"throne\", \"killer\", \"giant\", \"goddamn\", \"crah\", \"celebrate\", \"capable\", \"treet\", \"hero\", \"tdent\", \"maive\", \"reveal\", \"paper\", \"dad\", \"camp\", \"bird\", \"plant\", \"channel\", \"market\", \"food\", \"fall\", \"refe\", \"local\", \"hooting\", \"gay\", \"hitory\", \"bag\", \"force\", \"fan\", \"onion\", \"worth\", \"ma\", \"death\", \"love\", \"congre\", \"line\", \"plan\", \"nation\", \"game\", \"annonce\", \"new\", \"year\", \"erie\", \"nre\", \"appearance\", \"living\", \"rare\", \"low\", \"african\", \"rate\", \"je\", \"texa\", \"planet\", \"chrch\", \"driver\", \"award\", \"tet\", \"cat\", \"america\", \"cabinet\", \"well\", \"mem\", \"camera\", \"crrent\", \"dreed\", \"tone\", \"ocar\", \"elf\", \"converation\", \"bob\", \"mail\", \"woman\", \"company\", \"e\", \"help\", \"candidate\", \"world\", \"girlfriend\", \"place\", \"ftre\", \"man\", \"bet\", \"ex\", \"area\", \"tate\", \"home\", \"nation\", \"god\", \"plan\", \"time\", \"cort\", \"preme\", \"campaign\", \"ervice\", \"phone\", \"ant\", \"fat\", \"ection\", \"gard\", \"normal\", \"angel\", \"garden\", \"big\", \"commnity\", \"dick\", \"black\", \"hband\", \"bank\", \"heart\", \"weight\", \"andwich\", \"agent\", \"ecret\", \"date\", \"ad\", \"hitty\", \"fire\", \"tdio\", \"relationhip\", \"vote\", \"thoght\", \"adience\", \"mch\", \"band\", \"great\", \"actally\", \"god\", \"wihe\", \"hair\", \"man\", \"pal\", \"day\", \"woman\", \"firt\", \"local\"], \"Freq\": [1097.0, 858.0, 469.0, 383.0, 293.0, 215.0, 441.0, 268.0, 183.0, 193.0, 152.0, 229.0, 338.0, 142.0, 131.0, 150.0, 108.0, 109.0, 137.0, 94.0, 99.0, 132.0, 91.0, 128.0, 88.0, 114.0, 101.0, 100.0, 130.0, 104.0, 71.419574605999, 30.68802998032449, 23.769279310034484, 33.805645804453555, 21.832847613526212, 16.44866728444624, 13.748593723078486, 19.871277854463113, 179.98710941891088, 19.032832422970454, 12.422032980168456, 57.48894807948914, 56.09852912702917, 21.682571088199442, 9.956857260980184, 22.182624887480166, 21.889714062849798, 19.957667282784953, 120.46584321473438, 130.92828174008946, 21.04688371491371, 14.147205737750083, 12.742073109509587, 61.04647999832768, 15.119444911200722, 11.900514805712133, 26.06701736339454, 100.52424731811442, 11.485749723106272, 28.600427243503944, 70.86750147311794, 51.463108642893914, 77.4376562667511, 97.30706141723564, 38.10348948183138, 49.33799205935381, 42.520030715637844, 47.98876462546918, 38.96993781451842, 95.50555206566818, 66.6827013799441, 30.98759687303187, 81.14721987283674, 62.087635674308665, 29.60344948666182, 34.83687216487159, 41.711265649967174, 33.213253753361634, 29.45435635087044, 34.42514026503952, 32.03449019524505, 30.437379359534372, 37.82301450425508, 20.77418628706322, 31.04361470477703, 124.52643405168996, 15.014890745095423, 13.91155373172323, 18.66766567647208, 12.754820222144506, 13.777527121834014, 15.404175495760123, 11.622160903714876, 13.694473652459738, 28.236639715531666, 45.179688905001804, 13.93539385440232, 25.750468014879633, 8.383439151273693, 35.75741902258136, 31.046393645335822, 20.065233728893723, 16.005878877009053, 12.096397568451005, 13.944185864550152, 376.26069492799496, 21.058775697220522, 14.754828722486588, 14.686309411045603, 17.015696074271567, 61.552581166763524, 732.2708456134468, 97.02994274318131, 33.92599161451759, 33.046396169461644, 20.995864068699248, 31.941798174459553, 48.19157042099828, 32.9674184795736, 46.0887590486297, 39.74930836915809, 29.283535350515166, 36.69514711522629, 25.97946466935652, 27.466399067590295, 26.937922264119575, 38.67133840171826, 41.33516109885232, 28.320800776985287, 29.704812778867453, 23.744887688915373, 179.21754568464263, 34.27534971451254, 19.15338748895891, 14.483715005972838, 16.182179211578994, 13.976993863363234, 18.21568481320263, 12.845407089084611, 15.465833312389472, 20.45644521628907, 31.22807428898754, 70.48185166633203, 21.99623919510463, 18.891014161409156, 17.931614769202863, 19.418371230537442, 15.38850350757239, 14.380363192924156, 15.520578780823326, 29.55008867258749, 44.87808361418863, 32.6014766381821, 15.597330692618115, 89.54125435482622, 10.282502001897736, 26.63578999384649, 15.971274976098691, 98.49699709913699, 25.48906222447521, 9.773056647832012, 18.95874441107338, 283.35383663657524, 41.283937334604474, 443.9272551418124, 67.86983061996445, 67.44324265705575, 27.716008609426, 28.49709633888364, 32.77119511085267, 25.031744998014627, 20.21848588984553, 45.214805253959284, 42.56370122333054, 24.463476269445064, 25.071287130156495, 26.467656768815836, 35.80658018953541, 35.36262377058683, 27.465416779005405, 22.71137587293586, 23.416904089728614, 22.155482643249723, 17.82964098163092, 17.853730028552548, 22.382320564874384, 24.040405298317616, 17.750652663613103, 17.612616847913298, 15.99274432480034, 23.106458608723308, 16.384169609333068, 11.987969244671527, 12.458177337087855, 29.62205511162795, 24.653370507534785, 14.910141381689119, 14.827126151437861, 8.464999546911914, 12.739338739300505, 67.24495109941152, 20.55049376157511, 22.122443494183358, 16.322525622378258, 28.526885269075994, 18.72953093012865, 25.981827849668015, 44.000903908496355, 16.352363521071997, 18.914812348754342, 13.353746140781132, 12.334630438515745, 100.68243855773161, 27.845976779891366, 158.64381427505882, 41.90594989626009, 55.732396505666784, 29.70121363187146, 157.09692953617696, 40.821472012673276, 50.272345318642955, 59.71311875211348, 24.581709938531684, 32.93423931150642, 65.3905725012078, 35.69962713339922, 34.07368889266844, 44.45420675537872, 40.701664131080506, 34.760248457878504, 22.45098448830808, 39.51351136410234, 76.57582821494299, 38.71970266876136, 35.66731768110897, 27.023324239281173, 27.179743706017906, 57.752478211223426, 85.6613742784183, 96.71546724312417, 28.408604270888258, 30.637191005878663, 18.02874957386748, 16.16800412157822, 16.164459292642825, 17.742224735352334, 22.19876149539318, 13.75870175706985, 32.98743762920022, 10.23359741598101, 88.4319567727774, 14.944118844178492, 20.096003668031813, 33.652981944587154, 21.925537813685565, 17.023606354043178, 13.921204084133937, 13.346590354175287, 37.86243590068009, 67.58323318291617, 27.399107815126143, 14.833112222019729, 16.499896331826577, 55.106826791937564, 14.180776060864826, 43.06195235127783, 25.01772500263391, 43.27376929400066, 17.86980459531626, 356.27140460676236, 44.17141226761365, 82.45716369876942, 33.57003795532991, 18.88156530608958, 55.89753111181436, 42.285287843279356, 30.031540349113573, 26.283933605930297, 35.74983589691536, 36.71682659865195, 65.00638936141159, 25.956856067475123, 30.86482196345859, 29.48672053076959, 32.5808840244473, 60.26576011085688, 32.50084475395429, 23.852650146721047, 21.353943806003603, 16.283068766522653, 17.405103500808593, 16.772982772582264, 12.878584747290796, 27.724079877900838, 13.703855889986682, 38.651572824136956, 27.438474519312564, 267.04206029973693, 15.077076798229509, 12.256265385392213, 14.326908669362018, 20.296495925401793, 14.34101387488525, 16.72631365372312, 68.60796798048048, 95.25897206632207, 12.270491201286474, 27.845316358646468, 29.99246829937169, 16.593287509209755, 13.259231965088093, 36.526620286408125, 18.384241550658274, 31.871886500603527, 24.539309820515932, 43.13918675143037, 49.14578188087377, 32.82674107119278, 48.50841637518976, 32.95615245193923, 26.580801755177074, 22.946949623370454, 19.59252688968283, 38.41782992508963, 25.11863158514394, 28.30786422625679, 30.161127713795373, 62.1574202647478, 36.91717795197167, 53.30452680001931, 25.419808097367987, 36.549674604093255, 24.5328855445769, 26.48697398124698, 25.291984161946054, 22.70043404461208, 24.840345943121783, 103.96762473038855, 18.54143152096228, 15.90826024778017, 23.748075758298306, 48.34151927983248, 16.340962454632713, 17.892039410371172, 14.968629767655615, 16.597351284964617, 13.289397358787118, 14.313657615920985, 26.5994141045806, 13.161451114849923, 15.28098163357265, 8.086804326185376, 13.89584483579309, 23.25996445437124, 41.3987792362129, 44.82835993350249, 16.50345108441009, 21.162312812815838, 39.6967921513698, 29.233805058886976, 16.24648629354728, 14.619606155935614, 31.93784827539682, 13.394445783617757, 13.312632284204408, 28.21105161614205, 196.0345361390393, 54.87231202373081, 46.78293959117822, 44.192997543843575, 27.622748589861114, 45.15363872533519, 46.38022798797016, 24.851035092974737, 25.637292365724246, 20.37441235855169, 23.0571314834056, 36.815363255350896, 27.535070457041915, 43.09445108323481, 44.39681981172112, 27.96987830783538, 39.90287082932724, 43.306282590495044, 39.257330878286936, 41.26740602711683, 28.35392878984215, 30.800512567033234, 62.38784455761031, 38.26405075081095, 61.470743637778476, 146.52013263983807, 104.66578082059112, 21.470055874749356, 18.995228237979642, 15.151607094205383, 13.917984221261452, 13.384298271517723, 22.114722978708762, 12.081890292139658, 17.85401663813682, 10.5589358996154, 12.262241857172583, 42.15519150564324, 21.170258233150737, 69.03043355221828, 18.169796810983033, 36.45869122251176, 18.061667746911667, 86.05069932128866, 22.887649557603886, 22.916162000891163, 14.44613599964865, 14.35737611241735, 13.291359209493116, 52.05494526008734, 12.506020286924281, 13.949370745898188, 113.59423717593684, 19.899464302801107, 47.70355226438708, 28.447653813656913, 25.574007213409956, 29.943701966685126, 52.00480192909229, 24.40038057718203, 25.3925577797509, 24.22891684229039, 53.566336507782744, 31.418046491865468, 35.23860224470398, 39.65163489679711, 39.170551909762445, 52.28342711502887, 29.593402368284462, 29.899185000945103, 29.370847988945332, 206.74976363585944, 18.72400911960962, 30.981319262565297, 17.590508909861523, 18.127629607991054, 15.310469729917815, 41.252593950675035, 15.204066630981977, 17.208709852483896, 11.827971302870226, 13.44781086839961, 17.667721106478705, 22.17357670755258, 27.463820592834104, 35.013667665258595, 22.47753111000649, 51.99200584450401, 39.08835198371356, 15.022266069129838, 44.272702109815434, 16.79792059289022, 16.599409639301705, 12.231028548847082, 14.28815231734747, 12.38228559088233, 28.629714473765144, 83.82844584172426, 28.539099220715883, 16.308021761759765, 8.80343677886183, 280.3336936787845, 40.087069425395015, 32.594425255324445, 24.514566316135863, 40.3701408978449, 55.76289429672056, 34.364849770528664, 27.75757639427571, 23.195335870257694, 115.01411153985302, 27.19524506476998, 31.527000916332078, 64.134416021995, 32.73365715675812, 30.67274369808498, 34.536389328815595, 24.75349557190063, 23.591845064567565, 23.51564311468535, 61.240793826724826, 39.55459479106089, 91.64793994086628, 43.751356425450936, 54.021199229039674, 25.612819812396904, 36.055895954331284, 16.266708849967113, 17.287072249453537, 14.509540537057184, 12.050330599192872, 11.985169506746418, 84.34548221112044, 22.04655263034394, 17.11374380591004, 61.34106900550135, 23.279507329072743, 19.080282314148047, 28.45603023897231, 16.328650397600867, 17.92197740022893, 22.775060005029825, 30.836931180561848, 29.756667097441582, 53.78533210194801, 12.584490502058069, 49.31729302483142, 10.87259304287885, 30.147998481895684, 24.486367344251846, 37.59058202742171, 27.56433014027191, 43.12065617170211, 26.097546060248142, 36.97443754624981, 34.01111549118748, 41.51126730434745, 25.110433620674755, 22.846268852599017, 118.66233752689398, 31.5890760946692, 57.36677557901638, 42.28630606641105, 30.461062965818325, 27.52949045582418], \"Total\": [1097.0, 858.0, 469.0, 383.0, 293.0, 215.0, 441.0, 268.0, 183.0, 193.0, 152.0, 229.0, 338.0, 142.0, 131.0, 150.0, 108.0, 109.0, 137.0, 94.0, 99.0, 132.0, 91.0, 128.0, 88.0, 114.0, 101.0, 100.0, 130.0, 104.0, 73.22327682446796, 31.819289332596917, 24.736515860058894, 35.314244199894105, 22.981999430975268, 17.49144515938782, 14.637622817356517, 21.17319783624236, 193.2300994451156, 20.451205428730677, 13.495281118093798, 63.27665497782847, 62.0415172731933, 24.028317095480386, 11.225065229429822, 25.223550597069327, 24.956627318176555, 22.821313069026058, 137.94902489819057, 150.625360447331, 24.743930469418807, 16.948604829431748, 15.806870141056214, 75.74923342217173, 18.789273890224006, 15.254362513701185, 33.434854937645355, 130.07365381636447, 15.691431783164752, 39.11353304287868, 100.90251368867887, 76.98924404698865, 124.58990307557721, 174.94622287341107, 57.770755801900144, 80.34239304114404, 69.00793443615048, 86.2455120922073, 64.21726413445603, 269.46857393948034, 164.2475494396896, 48.15266430917383, 285.6906404020656, 192.31127125552126, 50.03345255730656, 79.35816481053018, 130.767279156269, 78.68556239788781, 65.17080660951943, 229.69577443763, 188.16753485003, 31.405115363768584, 39.03244930933573, 21.761037010757036, 32.54379496539182, 131.78476761202418, 16.00374896793183, 14.82859180590039, 19.979224477259198, 13.65512918367344, 14.83287363162005, 16.587979288528988, 12.53670313646748, 14.834993803343728, 30.812729893489223, 49.46686292058115, 15.432823523892939, 28.696027026802533, 9.79177763510731, 42.12947316285152, 36.76393473735719, 24.02696015879691, 19.504774717081823, 14.863552297794952, 17.157470565930378, 469.0346902448643, 26.872403694602376, 19.433772562060565, 19.375096920096475, 22.96872839575147, 83.74758990399437, 1097.1393812109463, 149.9922242657593, 48.656066981265724, 49.42251464791023, 29.665213751285027, 51.391222625749236, 93.77456581728065, 55.662662687245906, 102.06974951758646, 111.75128678142681, 62.90324518321173, 98.68721719691506, 55.19317465390389, 64.0241011847717, 63.10872020200604, 164.2475494396896, 263.63243278838735, 285.6906404020656, 441.05081867923246, 112.6825118257711, 183.94810243802183, 35.29691950498356, 20.117571548380173, 15.45367636586886, 17.28939146203676, 14.969056422772773, 19.539036303422524, 13.79068068129454, 16.64067953444325, 22.397944773062544, 34.194567549682745, 77.51286276097508, 25.444012380907374, 21.883496005968006, 20.805913628708396, 23.114481410499646, 18.465935524056828, 17.39676005113972, 18.963694982084778, 36.46072113870378, 55.73712232442751, 40.96781830458833, 19.632529873867675, 113.43480735787533, 13.21013088502968, 34.23247940204326, 21.25315694939168, 132.07378797561955, 34.18826440305312, 13.26264289438041, 26.057198249233355, 441.05081867923246, 59.24233421276825, 858.955656809442, 114.4321983692364, 115.58502376519822, 41.220507031105825, 43.48267611951962, 53.7373081484943, 37.71398042718239, 30.680016639329306, 285.6906404020656, 269.46857393948034, 54.57640468396247, 59.64586669039167, 80.98552866143733, 263.63243278838735, 338.96534639623826, 111.20569190902063, 54.71183106994342, 124.58990307557721, 23.05295695797223, 18.71529050256618, 18.769774406088686, 23.541363790180633, 25.417170675520545, 18.767325444065513, 18.71518356466647, 17.00800530652339, 24.588075761074652, 17.611467376188678, 12.890692980585364, 13.491926829395279, 32.41983421951599, 26.985079508671173, 16.35401469553381, 16.46174113124233, 9.426944933236642, 14.209778996418947, 75.17342181419848, 23.558602651591688, 25.364034182161486, 18.7179648675253, 32.839987499580836, 22.415064955982324, 31.127509318302753, 52.71883861793948, 19.615686681419966, 22.97457472963274, 16.289232031831062, 15.217953680474224, 128.66298719767758, 34.82554075606495, 229.69577443763, 58.06175807100633, 81.61413849466273, 40.33900083580215, 338.96534639623826, 62.57943317610686, 83.79117104644396, 106.68035810735424, 32.49608782831935, 48.66817194712537, 128.16845203898134, 58.821129925765895, 54.761986733355315, 94.23430330825724, 81.37207542500649, 63.10872020200604, 29.029676977798374, 141.00339961738482, 1097.1393812109463, 269.46857393948034, 285.6906404020656, 64.76446974776898, 263.63243278838735, 59.237602664530996, 88.12953953590232, 99.71124749860583, 29.41961010529375, 31.888316744697622, 18.962794650156063, 17.092863862524634, 17.0915246179648, 18.797980459174312, 23.58718937762662, 14.6728232276434, 35.26271695882308, 11.149460306580659, 101.98266758055196, 17.61874197806248, 23.915114336655865, 40.20412916876792, 26.34967554254808, 20.469351985735095, 16.99088819112583, 16.485438491269676, 48.04589559354077, 85.79843996447474, 34.87239389601067, 18.918463490866205, 21.081432162584683, 70.40843096914669, 18.185374630774515, 55.320849226602995, 32.43275375115111, 62.281300051734554, 23.460580156138906, 858.955656809442, 70.82100716362865, 156.81360068656176, 51.35870814475809, 25.230726799066396, 111.20569190902063, 81.13827309415086, 49.72234850507147, 41.70694703967654, 80.44212853740902, 94.3721143810814, 441.05081867923246, 56.003226727620905, 132.97826499271568, 111.75128678142681, 268.12508262233337, 62.045502736287204, 33.46064956266897, 24.836013105320564, 22.46474853012853, 17.18720824959573, 18.428636251511595, 17.836574199822003, 13.792990146151569, 30.15141583057189, 14.949746512661209, 42.264936031070455, 30.138557585419733, 293.5793529147562, 16.79126706310907, 13.79645434427993, 16.159028982047754, 23.088272249785906, 16.657204518726996, 19.483518794363793, 80.19715233037257, 114.69418385372127, 14.916157808941053, 34.44556008850786, 37.10674819721911, 20.821635037562285, 16.822165837869218, 46.58311223309827, 24.27474835601702, 42.45644000997563, 32.85336752835369, 59.15825757066879, 71.7932074082875, 47.64772677482214, 79.79488467136342, 51.76375663642954, 40.367164528069466, 33.08761128662519, 26.64163728041098, 88.7459795057261, 42.074809126362354, 53.63552506898221, 61.02352058717287, 263.63243278838735, 130.767279156269, 383.4457378897544, 53.20225642101345, 285.6906404020656, 48.103449008715586, 79.68695311057441, 192.31127125552126, 23.615456697341777, 25.92210974951029, 108.77800699813687, 19.49373664430831, 16.893296462524287, 25.272536877216137, 51.58145316071486, 17.450162102028905, 19.242250745162583, 16.20016821921856, 18.012269855903494, 14.45930172220127, 15.628476133204632, 29.089951835509865, 14.400778779101344, 16.80796586562232, 9.045668175345037, 15.606223236941071, 26.480669921844076, 47.63610279944351, 51.73866218056868, 19.194965258922533, 24.698206250608195, 46.46749913770466, 34.340110569491856, 19.2241053069048, 17.51309422631662, 38.423746650692294, 16.738124012386397, 16.667502075190125, 35.82677695153801, 268.12508262233337, 74.47496810101212, 64.76001303698511, 63.68044861774623, 37.26314963656647, 79.34226351181934, 92.24974417073952, 36.55551161630946, 39.99555084394337, 27.380509724458246, 34.367015902718826, 83.2816373457871, 49.2652819261329, 123.32759424829548, 141.00339961738482, 62.462584183615206, 188.16753485003, 338.96534639623826, 285.6906404020656, 441.05081867923246, 100.90251368867887, 229.69577443763, 63.93294454431823, 39.21945761157218, 63.91838323958706, 152.60145839941515, 109.65172175623049, 22.500697449089486, 19.946312420567114, 16.050035011961942, 14.825993617912067, 14.300814888067059, 23.69705898554721, 12.964083616188436, 19.377899762488806, 11.725888366253447, 13.621453101718973, 47.706873969809436, 24.018850111104797, 79.2287002426421, 20.99761545161791, 42.19557480715306, 21.042931728613148, 100.31622689781135, 27.08159552251822, 27.216758102548162, 17.172791603816908, 17.328928403443108, 16.158936215880473, 63.515667228150555, 15.293658693057855, 17.17235684939318, 142.62845807679315, 24.617684123977185, 62.63028035432554, 36.46204727106176, 32.61486557561189, 40.98036163551158, 80.98552866143733, 32.9222235530638, 34.78174764243474, 33.76734999786799, 114.0334803904977, 52.32511833498282, 64.91515261104988, 80.44212853740902, 112.6825118257711, 338.96534639623826, 79.68695311057441, 123.32759424829548, 858.955656809442, 215.9376847597261, 19.635599156266686, 32.498781782149976, 18.496697329829747, 19.0936506809096, 16.271195386154098, 43.850495918177586, 16.165171879648252, 18.500499733638343, 12.744598834342709, 14.5923886094885, 19.33791675256193, 24.318814881457776, 30.82940511763116, 39.53785892588447, 25.648643939533294, 59.676998009050465, 45.288486585595784, 17.405717642500473, 51.36010216584411, 19.823412335072238, 19.674882589068346, 14.539259543836971, 17.264346162223344, 15.093724380129085, 35.59683277136838, 104.3292783654741, 36.123490890198326, 21.032749159649292, 11.627880721365068, 383.4457378897544, 65.94702385044731, 52.371864160127195, 36.0813123528163, 79.35816481053018, 132.97826499271568, 64.17616854185677, 48.75842652950921, 36.534196403997015, 1097.1393812109463, 55.84010676868075, 86.2455120922073, 469.0346902448643, 141.00339961738482, 132.07378797561955, 338.96534639623826, 92.3174355453526, 112.6825118257711, 263.63243278838735, 62.62855747618535, 40.53780862298912, 94.61164432875803, 45.29629335743184, 56.056391968867054, 26.611539969332988, 37.52136586978025, 17.173569302653597, 18.33395736714653, 15.397622972560244, 13.010754248686133, 13.01218320317421, 91.67759477575963, 24.3011037249104, 19.993498180460076, 72.01486943908412, 27.355819068404205, 22.507387315058743, 33.84613697703502, 19.563463590733907, 21.891554466513348, 28.000066815315282, 38.0313212875764, 37.0323113401182, 67.59324044218562, 15.997044741336897, 62.84949505067174, 14.273213256390124, 40.85228304778552, 33.39226712550227, 51.38605128224218, 39.37529738022385, 81.33294745883316, 40.597201398410746, 70.96389489295225, 63.96367623022353, 92.3174355453526, 39.5133101899042, 34.44144706818777, 1097.1393812109463, 68.72677394544807, 269.46857393948034, 383.4457378897544, 188.16753485003, 142.62845807679315], \"Category\": [\"Default\", \"Default\", \"Default\", \"Default\", \"Default\", \"Default\", \"Default\", \"Default\", \"Default\", \"Default\", \"Default\", \"Default\", \"Default\", \"Default\", \"Default\", \"Default\", \"Default\", \"Default\", \"Default\", \"Default\", \"Default\", \"Default\", \"Default\", \"Default\", \"Default\", \"Default\", \"Default\", \"Default\", \"Default\", \"Default\", \"Topic1\", \"Topic1\", \"Topic1\", \"Topic1\", \"Topic1\", \"Topic1\", \"Topic1\", \"Topic1\", \"Topic1\", \"Topic1\", \"Topic1\", \"Topic1\", \"Topic1\", \"Topic1\", \"Topic1\", \"Topic1\", \"Topic1\", \"Topic1\", \"Topic1\", \"Topic1\", \"Topic1\", \"Topic1\", \"Topic1\", \"Topic1\", \"Topic1\", \"Topic1\", \"Topic1\", \"Topic1\", \"Topic1\", \"Topic1\", \"Topic1\", \"Topic1\", \"Topic1\", \"Topic1\", \"Topic1\", \"Topic1\", \"Topic1\", \"Topic1\", \"Topic1\", \"Topic1\", \"Topic1\", \"Topic1\", \"Topic1\", \"Topic1\", \"Topic1\", \"Topic1\", \"Topic1\", \"Topic1\", \"Topic1\", \"Topic1\", \"Topic1\", \"Topic2\", \"Topic2\", \"Topic2\", \"Topic2\", \"Topic2\", \"Topic2\", \"Topic2\", \"Topic2\", \"Topic2\", \"Topic2\", \"Topic2\", \"Topic2\", \"Topic2\", \"Topic2\", \"Topic2\", \"Topic2\", \"Topic2\", \"Topic2\", \"Topic2\", \"Topic2\", \"Topic2\", \"Topic2\", \"Topic2\", \"Topic2\", \"Topic2\", \"Topic2\", \"Topic2\", \"Topic2\", \"Topic2\", \"Topic2\", \"Topic2\", \"Topic2\", \"Topic2\", \"Topic2\", \"Topic2\", \"Topic2\", \"Topic2\", \"Topic2\", \"Topic2\", \"Topic2\", \"Topic2\", \"Topic2\", \"Topic2\", \"Topic2\", \"Topic2\", \"Topic2\", \"Topic2\", \"Topic2\", \"Topic2\", \"Topic2\", \"Topic3\", \"Topic3\", \"Topic3\", \"Topic3\", \"Topic3\", \"Topic3\", \"Topic3\", \"Topic3\", \"Topic3\", \"Topic3\", \"Topic3\", \"Topic3\", \"Topic3\", \"Topic3\", \"Topic3\", \"Topic3\", \"Topic3\", \"Topic3\", \"Topic3\", \"Topic3\", \"Topic3\", \"Topic3\", \"Topic3\", \"Topic3\", \"Topic3\", \"Topic3\", \"Topic3\", \"Topic3\", \"Topic3\", \"Topic3\", \"Topic3\", \"Topic3\", \"Topic3\", \"Topic3\", \"Topic3\", \"Topic3\", \"Topic3\", \"Topic3\", \"Topic3\", \"Topic3\", \"Topic3\", \"Topic3\", \"Topic3\", \"Topic3\", \"Topic3\", \"Topic3\", \"Topic3\", \"Topic3\", \"Topic3\", \"Topic3\", \"Topic3\", \"Topic4\", \"Topic4\", \"Topic4\", \"Topic4\", \"Topic4\", \"Topic4\", \"Topic4\", \"Topic4\", \"Topic4\", \"Topic4\", \"Topic4\", \"Topic4\", \"Topic4\", \"Topic4\", \"Topic4\", \"Topic4\", \"Topic4\", \"Topic4\", \"Topic4\", \"Topic4\", \"Topic4\", \"Topic4\", \"Topic4\", \"Topic4\", \"Topic4\", \"Topic4\", \"Topic4\", \"Topic4\", \"Topic4\", \"Topic4\", \"Topic4\", \"Topic4\", \"Topic4\", \"Topic4\", \"Topic4\", \"Topic4\", \"Topic4\", \"Topic4\", \"Topic4\", \"Topic4\", \"Topic4\", \"Topic4\", \"Topic4\", \"Topic4\", \"Topic4\", \"Topic4\", \"Topic4\", \"Topic4\", \"Topic4\", \"Topic4\", \"Topic4\", \"Topic4\", \"Topic4\", \"Topic4\", \"Topic4\", \"Topic5\", \"Topic5\", \"Topic5\", \"Topic5\", \"Topic5\", \"Topic5\", \"Topic5\", \"Topic5\", \"Topic5\", \"Topic5\", \"Topic5\", \"Topic5\", \"Topic5\", \"Topic5\", \"Topic5\", \"Topic5\", \"Topic5\", \"Topic5\", \"Topic5\", \"Topic5\", \"Topic5\", \"Topic5\", \"Topic5\", \"Topic5\", \"Topic5\", \"Topic5\", \"Topic5\", \"Topic5\", \"Topic5\", \"Topic5\", \"Topic5\", \"Topic5\", \"Topic5\", \"Topic5\", \"Topic5\", \"Topic5\", \"Topic5\", \"Topic5\", \"Topic5\", \"Topic5\", \"Topic5\", \"Topic5\", \"Topic5\", \"Topic5\", \"Topic5\", \"Topic5\", \"Topic5\", \"Topic5\", \"Topic6\", \"Topic6\", \"Topic6\", \"Topic6\", \"Topic6\", \"Topic6\", \"Topic6\", \"Topic6\", \"Topic6\", \"Topic6\", \"Topic6\", \"Topic6\", \"Topic6\", \"Topic6\", \"Topic6\", \"Topic6\", \"Topic6\", \"Topic6\", \"Topic6\", \"Topic6\", \"Topic6\", \"Topic6\", \"Topic6\", \"Topic6\", \"Topic6\", \"Topic6\", \"Topic6\", \"Topic6\", \"Topic6\", \"Topic6\", \"Topic6\", \"Topic6\", \"Topic6\", \"Topic6\", \"Topic6\", \"Topic6\", \"Topic6\", \"Topic6\", \"Topic6\", \"Topic6\", \"Topic6\", \"Topic6\", \"Topic6\", \"Topic6\", \"Topic6\", \"Topic6\", \"Topic6\", \"Topic6\", \"Topic6\", \"Topic6\", \"Topic7\", \"Topic7\", \"Topic7\", \"Topic7\", \"Topic7\", \"Topic7\", \"Topic7\", \"Topic7\", \"Topic7\", \"Topic7\", \"Topic7\", \"Topic7\", \"Topic7\", \"Topic7\", \"Topic7\", \"Topic7\", \"Topic7\", \"Topic7\", \"Topic7\", \"Topic7\", \"Topic7\", \"Topic7\", \"Topic7\", \"Topic7\", \"Topic7\", \"Topic7\", \"Topic7\", \"Topic7\", \"Topic7\", \"Topic7\", \"Topic7\", \"Topic7\", \"Topic7\", \"Topic7\", \"Topic7\", \"Topic7\", \"Topic7\", \"Topic7\", \"Topic7\", \"Topic7\", \"Topic7\", \"Topic7\", \"Topic7\", \"Topic7\", \"Topic7\", \"Topic7\", \"Topic7\", \"Topic7\", \"Topic7\", \"Topic7\", \"Topic7\", \"Topic7\", \"Topic7\", \"Topic8\", \"Topic8\", \"Topic8\", \"Topic8\", \"Topic8\", \"Topic8\", \"Topic8\", \"Topic8\", \"Topic8\", \"Topic8\", \"Topic8\", \"Topic8\", \"Topic8\", \"Topic8\", \"Topic8\", \"Topic8\", \"Topic8\", \"Topic8\", \"Topic8\", \"Topic8\", \"Topic8\", \"Topic8\", \"Topic8\", \"Topic8\", \"Topic8\", \"Topic8\", \"Topic8\", \"Topic8\", \"Topic8\", \"Topic8\", \"Topic8\", \"Topic8\", \"Topic8\", \"Topic8\", \"Topic8\", \"Topic8\", \"Topic8\", \"Topic8\", \"Topic8\", \"Topic8\", \"Topic8\", \"Topic8\", \"Topic8\", \"Topic8\", \"Topic8\", \"Topic8\", \"Topic8\", \"Topic8\", \"Topic8\", \"Topic9\", \"Topic9\", \"Topic9\", \"Topic9\", \"Topic9\", \"Topic9\", \"Topic9\", \"Topic9\", \"Topic9\", \"Topic9\", \"Topic9\", \"Topic9\", \"Topic9\", \"Topic9\", \"Topic9\", \"Topic9\", \"Topic9\", \"Topic9\", \"Topic9\", \"Topic9\", \"Topic9\", \"Topic9\", \"Topic9\", \"Topic9\", \"Topic9\", \"Topic9\", \"Topic9\", \"Topic9\", \"Topic9\", \"Topic9\", \"Topic9\", \"Topic9\", \"Topic9\", \"Topic9\", \"Topic9\", \"Topic9\", \"Topic9\", \"Topic9\", \"Topic9\", \"Topic9\", \"Topic9\", \"Topic9\", \"Topic9\", \"Topic9\", \"Topic9\", \"Topic9\", \"Topic9\", \"Topic9\", \"Topic9\", \"Topic10\", \"Topic10\", \"Topic10\", \"Topic10\", \"Topic10\", \"Topic10\", \"Topic10\", \"Topic10\", \"Topic10\", \"Topic10\", \"Topic10\", \"Topic10\", \"Topic10\", \"Topic10\", \"Topic10\", \"Topic10\", \"Topic10\", \"Topic10\", \"Topic10\", \"Topic10\", \"Topic10\", \"Topic10\", \"Topic10\", \"Topic10\", \"Topic10\", \"Topic10\", \"Topic10\", \"Topic10\", \"Topic10\", \"Topic10\", \"Topic10\", \"Topic10\", \"Topic10\", \"Topic10\", \"Topic10\", \"Topic10\", \"Topic10\", \"Topic10\", \"Topic10\", \"Topic10\", \"Topic10\", \"Topic10\", \"Topic10\", \"Topic10\", \"Topic10\"], \"logprob\": [30.0, 29.0, 28.0, 27.0, 26.0, 25.0, 24.0, 23.0, 22.0, 21.0, 20.0, 19.0, 18.0, 17.0, 16.0, 15.0, 14.0, 13.0, 12.0, 11.0, 10.0, 9.0, 8.0, 7.0, 6.0, 5.0, 4.0, 3.0, 2.0, 1.0, -4.0927, -4.9374, -5.1929, -4.8407, -5.2779, -5.5611, -5.7404, -5.372, -3.1684, -5.4151, -5.8418, -4.3097, -4.3342, -5.2848, -6.063, -5.262, -5.2753, -5.3677, -3.5699, -3.4867, -5.3146, -5.7118, -5.8164, -4.2497, -5.6453, -5.8847, -5.1006, -3.7509, -5.9202, -5.0079, -4.1005, -4.4204, -4.0118, -3.7834, -4.721, -4.4626, -4.6113, -4.4903, -4.6985, -3.8021, -4.1614, -4.9277, -3.965, -4.2328, -4.9734, -4.8106, -4.6305, -4.8584, -4.9785, -4.8225, -4.8945, -4.9456, -4.7283, -5.3275, -4.9258, -3.5367, -5.6522, -5.7285, -5.4344, -5.8153, -5.7382, -5.6266, -5.9083, -5.7442, -5.0206, -4.5506, -5.7268, -5.1128, -6.235, -4.7845, -4.9257, -5.3622, -5.5883, -5.8683, -5.7262, -2.4309, -5.3139, -5.6697, -5.6743, -5.5271, -4.2413, -1.7651, -3.7862, -4.837, -4.8633, -5.3169, -4.8973, -4.486, -4.8657, -4.5307, -4.6786, -4.9842, -4.7586, -5.1039, -5.0483, -5.0677, -4.7061, -4.6395, -5.0176, -4.9699, -5.1939, -3.1661, -4.8203, -5.4022, -5.6817, -5.5708, -5.7173, -5.4524, -5.8017, -5.6161, -5.3364, -4.9134, -4.0993, -5.2638, -5.416, -5.4681, -5.3885, -5.6211, -5.6888, -5.6125, -4.9686, -4.5507, -4.8703, -5.6076, -3.86, -6.0242, -5.0724, -5.5839, -3.7647, -5.1164, -6.0751, -5.4124, -2.708, -4.6342, -2.259, -4.1371, -4.1434, -5.0327, -5.0049, -4.8651, -5.1345, -5.3481, -4.5433, -4.6037, -5.1575, -5.133, -5.0788, -4.7766, -4.789, -5.0418, -5.2318, -5.2012, -5.1677, -5.3849, -5.3835, -5.1575, -5.086, -5.3893, -5.3971, -5.4936, -5.1256, -5.4694, -5.7818, -5.7434, -4.8772, -5.0608, -5.5637, -5.5693, -6.1298, -5.721, -4.0574, -5.2429, -5.1692, -5.4732, -4.9149, -5.3356, -5.0083, -4.4815, -5.4714, -5.3258, -5.6739, -5.7533, -3.6538, -4.9391, -3.1991, -4.5303, -4.2452, -4.8746, -3.2089, -4.5565, -4.3483, -4.1762, -5.0637, -4.7712, -4.0854, -4.6906, -4.7372, -4.4713, -4.5595, -4.7173, -5.1544, -4.5891, -3.9275, -4.6094, -4.6915, -4.969, -4.9633, -4.1973, -3.803, -3.6817, -4.9067, -4.8312, -5.3615, -5.4704, -5.4706, -5.3775, -5.1534, -5.6318, -4.7573, -5.9278, -3.7712, -5.5491, -5.2529, -4.7373, -5.1658, -5.4188, -5.62, -5.6622, -4.6195, -4.0401, -4.9429, -5.5566, -5.4501, -4.2442, -5.6015, -4.4908, -5.0339, -4.4859, -5.3703, -2.3777, -4.4654, -3.8412, -4.7398, -5.3152, -4.2299, -4.509, -4.8512, -4.9845, -4.6769, -4.6502, -4.0789, -4.997, -4.8238, -4.8695, -4.7697, -4.1463, -4.7638, -5.0732, -5.1839, -5.455, -5.3883, -5.4253, -5.6895, -4.9228, -5.6274, -4.5905, -4.9332, -2.6577, -5.5319, -5.7391, -5.583, -5.2347, -5.582, -5.4281, -4.0167, -3.6885, -5.7379, -4.9184, -4.8442, -5.4361, -5.6604, -4.6471, -5.3336, -4.7834, -5.0448, -4.4807, -4.3503, -4.7539, -4.3634, -4.7499, -4.9649, -5.1119, -5.27, -4.5966, -5.0215, -4.902, -4.8386, -4.1154, -4.6364, -4.2691, -5.0096, -4.6464, -5.0451, -4.9685, -5.0146, -5.0768, -4.9867, -3.5551, -5.2791, -5.4323, -5.0316, -4.3209, -5.4055, -5.3148, -5.4932, -5.3899, -5.6122, -5.5379, -4.9183, -5.6219, -5.4725, -6.1089, -5.5676, -5.0524, -4.4759, -4.3963, -5.3956, -5.1469, -4.5179, -4.8238, -5.4113, -5.5168, -4.7354, -5.6043, -5.6104, -4.8594, -2.9209, -4.1941, -4.3536, -4.4106, -4.8805, -4.3891, -4.3623, -4.9862, -4.9551, -5.1849, -5.0612, -4.5932, -4.8837, -4.4358, -4.406, -4.868, -4.5127, -4.4308, -4.529, -4.4791, -4.8544, -4.7716, -4.0644, -4.5532, -4.0792, -3.2106, -3.547, -5.1311, -5.2536, -5.4796, -5.5646, -5.6037, -5.1015, -5.706, -5.3155, -5.8408, -5.6912, -4.4564, -5.1451, -3.9632, -5.298, -4.6016, -5.304, -3.7428, -5.0671, -5.0659, -5.5273, -5.5335, -5.6106, -4.2454, -5.6715, -5.5623, -3.4651, -5.2071, -4.3327, -4.8497, -4.9562, -4.7984, -4.2464, -5.0031, -4.9633, -5.0102, -4.2168, -4.7504, -4.6356, -4.5176, -4.5298, -4.2411, -4.8102, -4.7999, -4.8177, -2.8632, -5.2649, -4.7614, -5.3274, -5.2973, -5.4662, -4.475, -5.4732, -5.3493, -5.7243, -5.5959, -5.323, -5.0958, -4.8819, -4.639, -5.0822, -4.2437, -4.5289, -5.4852, -4.4044, -5.3735, -5.3854, -5.6908, -5.5353, -5.6785, -4.8403, -3.766, -4.8435, -5.4031, -6.0196, -2.5588, -4.5037, -4.7106, -4.9955, -4.4966, -4.1736, -4.6577, -4.8712, -5.0508, -3.4497, -4.8917, -4.7439, -4.0338, -4.7063, -4.7714, -4.6527, -4.9858, -5.0338, -5.0371, -4.0013, -4.4385, -3.5982, -4.3376, -4.1268, -4.8731, -4.5311, -5.327, -5.2662, -5.4414, -5.6271, -5.6325, -3.6812, -5.023, -5.2763, -3.9997, -4.9686, -5.1675, -4.7678, -5.3232, -5.2301, -4.9905, -4.6874, -4.7231, -4.1312, -5.5837, -4.2179, -5.7299, -4.71, -4.918, -4.4894, -4.7996, -4.3522, -4.8543, -4.5059, -4.5895, -4.3902, -4.8929, -4.9874, -3.3399, -4.6634, -4.0667, -4.3717, -4.6997, -4.8009], \"loglift\": [30.0, 29.0, 28.0, 27.0, 26.0, 25.0, 24.0, 23.0, 22.0, 21.0, 20.0, 19.0, 18.0, 17.0, 16.0, 15.0, 14.0, 13.0, 12.0, 11.0, 10.0, 9.0, 8.0, 7.0, 6.0, 5.0, 4.0, 3.0, 2.0, 1.0, 2.1744, 2.1631, 2.1594, 2.1556, 2.148, 2.1378, 2.1366, 2.1358, 2.1283, 2.1274, 2.1164, 2.1034, 2.0986, 2.0966, 2.0794, 2.0708, 2.0682, 2.0652, 2.0638, 2.0592, 2.0375, 2.0186, 1.9838, 1.9835, 1.982, 1.951, 1.9504, 1.9416, 1.8873, 1.8863, 1.846, 1.7965, 1.7238, 1.6127, 1.7831, 1.7117, 1.7151, 1.6131, 1.6998, 1.162, 1.2979, 1.7585, 0.9407, 1.0687, 1.6745, 1.376, 1.0567, 1.3368, 1.4051, 0.3013, 0.4288, 2.1681, 2.1679, 2.153, 2.1522, 2.1427, 2.1356, 2.1356, 2.1315, 2.1312, 2.1256, 2.1254, 2.1236, 2.1194, 2.1121, 2.1087, 2.0973, 2.0911, 2.0441, 2.0354, 2.0304, 2.0192, 2.0017, 1.9934, 1.992, 1.979, 1.9556, 1.9239, 1.9223, 1.8994, 1.8915, 1.7951, 1.7638, 1.8388, 1.7969, 1.8537, 1.7238, 1.5337, 1.6756, 1.4043, 1.1657, 1.4348, 1.2101, 1.4459, 1.3531, 1.3481, 0.7531, 0.3465, -0.1119, -0.4985, 0.6422, 2.1799, 2.1766, 2.1568, 2.1411, 2.1397, 2.1374, 2.1358, 2.1349, 2.1327, 2.1153, 2.1152, 2.1108, 2.0603, 2.0589, 2.0573, 2.0317, 2.0236, 2.0155, 2.0056, 1.9958, 1.9892, 1.9775, 1.9758, 1.9694, 1.9554, 1.955, 1.9202, 1.9126, 1.9123, 1.9006, 1.8879, 1.7635, 1.8448, 1.5459, 1.6835, 1.6672, 1.809, 1.7834, 1.7114, 1.796, 1.7889, 0.3624, 0.3605, 1.4035, 1.3392, 1.0876, 0.2095, -0.0543, 0.8075, 1.3267, 0.5344, 2.2552, 2.2464, 2.2448, 2.2444, 2.2392, 2.2392, 2.2342, 2.2333, 2.2327, 2.2226, 2.2223, 2.2152, 2.2046, 2.2045, 2.2024, 2.1903, 2.1872, 2.1856, 2.1834, 2.1583, 2.1581, 2.1579, 2.1541, 2.1152, 2.1142, 2.1141, 2.1129, 2.1004, 2.0962, 2.0848, 2.0496, 2.0712, 1.9248, 1.9688, 1.9134, 1.9887, 1.5258, 1.8676, 1.784, 1.7146, 2.0158, 1.9044, 1.6219, 1.7955, 1.8204, 1.5435, 1.6021, 1.6985, 2.0379, 1.0227, -0.3673, 0.3548, 0.2142, 1.4208, 0.0228, 2.2818, 2.2788, 2.2767, 2.2722, 2.2672, 2.2567, 2.2516, 2.2514, 2.2494, 2.2465, 2.2429, 2.2405, 2.2215, 2.1646, 2.1425, 2.1332, 2.1293, 2.1234, 2.1229, 2.1079, 2.096, 2.069, 2.0685, 2.066, 2.0639, 2.0621, 2.0621, 2.0585, 2.0567, 2.0476, 1.9431, 2.035, 1.4272, 1.8351, 1.6644, 1.882, 2.0173, 1.6193, 1.6555, 1.803, 1.8455, 1.4962, 1.3632, 0.3925, 1.5382, 0.8466, 0.9748, 0.1995, 2.2864, 2.2864, 2.2751, 2.2648, 2.2615, 2.2584, 2.254, 2.2469, 2.2316, 2.2285, 2.2261, 2.2217, 2.2208, 2.2078, 2.1971, 2.1952, 2.1866, 2.1658, 2.1629, 2.1594, 2.1298, 2.1203, 2.1028, 2.1027, 2.0885, 2.0775, 2.0723, 2.0376, 2.0288, 2.0237, 1.9997, 1.9365, 1.9429, 1.8178, 1.864, 1.8977, 1.9495, 2.0082, 1.4783, 1.7997, 1.6764, 1.6108, 0.8706, 1.0508, 0.3423, 1.5769, 0.2593, 1.6422, 1.2141, 0.2869, 2.322, 2.3188, 2.3162, 2.3114, 2.3014, 2.2993, 2.2966, 2.2958, 2.2887, 2.2824, 2.2797, 2.2771, 2.2736, 2.272, 2.2715, 2.2662, 2.2494, 2.2454, 2.2318, 2.2211, 2.2181, 2.2104, 2.207, 2.204, 2.2005, 2.1932, 2.1809, 2.1766, 2.1386, 2.1367, 2.1225, 2.0483, 2.056, 2.0363, 1.9962, 2.0621, 1.7978, 1.6738, 1.9755, 1.9168, 2.0659, 1.9624, 1.5452, 1.7797, 1.31, 1.2059, 1.558, 0.8106, 0.3039, 0.3767, -0.0076, 1.0921, 0.3522, 2.3384, 2.3382, 2.3238, 2.3222, 2.3163, 2.316, 2.314, 2.3053, 2.2997, 2.2966, 2.2938, 2.2924, 2.281, 2.258, 2.2578, 2.2392, 2.2366, 2.2251, 2.2182, 2.2167, 2.2101, 2.2095, 2.1946, 2.1909, 2.19, 2.1748, 2.1675, 2.1639, 2.1616, 2.155, 2.1353, 2.1501, 2.0906, 2.1147, 2.1197, 2.0491, 1.9199, 2.0633, 2.0482, 2.0309, 1.6073, 1.8528, 1.7519, 1.6555, 1.3062, 0.4937, 1.3723, 0.9459, -1.0128, 2.3224, 2.3183, 2.3181, 2.3156, 2.314, 2.305, 2.3048, 2.3046, 2.2935, 2.2912, 2.2842, 2.2756, 2.2735, 2.2503, 2.2444, 2.2339, 2.228, 2.2187, 2.2186, 2.2174, 2.2003, 2.1959, 2.193, 2.1767, 2.1679, 2.1481, 2.1471, 2.1302, 2.1115, 2.0876, 2.0527, 1.8681, 1.8917, 1.9794, 1.69, 1.4968, 1.7413, 1.8025, 1.9116, 0.1105, 1.6464, 1.3595, 0.3762, 0.9055, 0.9059, 0.082, 1.0496, 0.8022, -0.051, 2.422, 2.4199, 2.4126, 2.4098, 2.4075, 2.4062, 2.4046, 2.3902, 2.3857, 2.3851, 2.3678, 2.3622, 2.3611, 2.3471, 2.2889, 2.284, 2.2831, 2.2793, 2.271, 2.2637, 2.2444, 2.2379, 2.2348, 2.2257, 2.2159, 2.2045, 2.202, 2.1723, 2.1406, 2.1342, 2.1318, 2.0878, 1.8099, 2.0026, 1.7925, 1.8128, 1.6452, 1.9911, 2.034, 0.2203, 1.6671, 0.8975, 0.2397, 0.6236, 0.7995]}, \"token.table\": {\"Topic\": [4, 1, 3, 5, 10, 4, 7, 10, 1, 8, 10, 7, 9, 2, 6, 7, 10, 7, 1, 3, 4, 3, 5, 8, 3, 3, 6, 7, 10, 1, 3, 6, 7, 9, 2, 3, 4, 5, 7, 9, 1, 2, 2, 4, 2, 3, 6, 10, 10, 2, 7, 1, 2, 3, 4, 5, 7, 8, 9, 10, 4, 9, 1, 2, 4, 6, 8, 9, 10, 1, 2, 5, 6, 7, 8, 10, 5, 3, 4, 5, 2, 7, 1, 9, 1, 2, 3, 6, 8, 9, 2, 6, 7, 2, 4, 5, 6, 7, 9, 6, 8, 3, 4, 8, 10, 2, 10, 2, 4, 5, 6, 8, 7, 7, 4, 5, 1, 2, 3, 5, 8, 9, 1, 7, 1, 6, 7, 3, 7, 10, 1, 2, 4, 5, 6, 8, 2, 4, 6, 8, 8, 9, 1, 7, 1, 6, 8, 1, 7, 4, 9, 10, 6, 3, 10, 7, 9, 3, 6, 8, 10, 2, 4, 5, 7, 9, 6, 9, 1, 8, 9, 2, 7, 10, 4, 1, 7, 9, 3, 8, 1, 5, 7, 9, 8, 1, 2, 3, 8, 9, 10, 3, 7, 8, 1, 5, 6, 10, 2, 2, 4, 7, 8, 5, 9, 1, 4, 7, 5, 7, 8, 9, 1, 2, 4, 1, 4, 8, 9, 2, 3, 6, 7, 7, 7, 9, 4, 5, 1, 2, 3, 5, 6, 7, 1, 4, 6, 8, 10, 2, 3, 7, 8, 9, 10, 2, 4, 9, 7, 2, 5, 8, 9, 10, 4, 6, 10, 2, 3, 5, 7, 2, 7, 9, 1, 2, 3, 6, 10, 1, 10, 10, 1, 2, 5, 6, 7, 10, 8, 9, 6, 2, 1, 8, 9, 5, 6, 2, 5, 7, 8, 9, 5, 6, 8, 2, 6, 8, 2, 6, 8, 10, 1, 2, 3, 4, 6, 9, 10, 4, 8, 1, 6, 2, 3, 5, 6, 8, 9, 10, 1, 4, 7, 10, 2, 2, 5, 2, 3, 8, 4, 6, 7, 5, 6, 3, 10, 2, 4, 5, 7, 8, 2, 6, 9, 3, 4, 7, 1, 2, 3, 4, 7, 1, 5, 4, 3, 6, 8, 2, 9, 3, 6, 3, 7, 9, 1, 5, 4, 6, 7, 8, 9, 10, 8, 7, 2, 9, 2, 6, 4, 5, 10, 4, 7, 9, 6, 7, 10, 10, 8, 1, 2, 6, 7, 9, 10, 1, 5, 6, 9, 3, 8, 2, 3, 7, 9, 10, 1, 6, 7, 1, 2, 3, 5, 6, 7, 9, 2, 4, 5, 6, 10, 2, 5, 9, 4, 10, 4, 9, 10, 3, 4, 6, 7, 8, 1, 2, 4, 9, 3, 1, 3, 5, 6, 8, 2, 4, 5, 2, 5, 6, 7, 8, 10, 2, 8, 3, 6, 3, 5, 6, 8, 3, 10, 1, 3, 4, 6, 7, 9, 10, 7, 1, 2, 1, 3, 4, 6, 3, 4, 5, 9, 10, 2, 3, 6, 7, 5, 3, 8, 9, 2, 3, 5, 10, 1, 3, 4, 5, 6, 7, 8, 9, 10, 1, 2, 10, 4, 5, 6, 6, 8, 2, 8, 10, 8, 4, 2, 5, 8, 1, 2, 6, 3, 4, 6, 1, 2, 3, 4, 5, 6, 8, 9, 7, 9, 10, 3, 3, 5, 6, 8, 9, 10, 10, 10, 6, 7, 8, 9, 4, 5, 8, 1, 3, 9, 8, 10, 2, 3, 6, 9, 10, 1, 2, 5, 6, 9, 10, 8, 1, 2, 3, 5, 6, 10, 1, 5, 6, 7, 10, 2, 2, 3, 6, 9, 10, 1, 2, 3, 9, 10, 1, 3, 4, 5, 7, 10, 4, 6, 8, 10, 1, 7, 7, 9, 10, 2, 7, 3, 10, 6, 3, 5, 9, 1, 8, 1, 2, 7, 8, 2, 1, 1, 4, 4, 8, 9, 7, 10, 5, 7, 8, 10, 1, 4, 5, 8, 10, 6, 7, 3, 6, 3, 5, 9, 8, 9, 2, 3, 4, 5, 6, 9, 2, 1, 2, 4, 5, 6, 7, 8, 9, 10, 2, 10, 1, 5, 1, 2, 5, 6, 9, 2, 6, 7, 4, 7, 4, 1, 3, 4, 6, 9, 7, 8, 2, 9, 2, 3, 5, 6, 7, 7, 9, 6, 7, 8, 9, 7, 3, 4, 6, 7, 10, 1, 4, 5, 6, 8, 5, 1, 2, 3, 4, 6, 7, 8, 4, 1, 2, 3, 6, 7, 10, 8, 5, 9, 5, 2, 7, 10, 1, 2, 3, 4, 6, 4, 5, 7, 4, 6, 1, 7, 9, 1, 5, 9, 6, 1, 2, 3, 4, 8, 9, 10, 3, 4, 6, 10, 1, 5, 8, 6, 7, 1, 2, 3, 4, 6, 9, 9, 4, 8, 10, 3, 7, 3, 6, 1, 2, 4, 5, 3, 4, 5, 6, 1, 6, 7, 8, 10, 2, 8, 9, 5, 4, 8, 9, 5, 9, 1, 8, 5, 7, 2, 3, 6, 9, 1, 2, 3, 4, 5, 6, 8, 9, 10, 1, 7, 8, 7, 10, 3, 6, 7, 9, 10, 3, 5, 6, 8, 1, 7, 4, 4, 9, 2, 4, 1, 2, 3, 4, 6, 1, 3, 4, 5, 6, 7, 8, 9, 1, 2, 3, 6, 7, 8, 1, 3, 4, 5, 6, 9, 7, 2, 5, 6, 1, 6, 7, 3, 4, 7, 9, 10, 4, 5, 6, 2, 4, 6, 7, 1, 2, 3, 4, 7, 8, 9, 6, 10, 5, 8, 2, 6, 2, 3, 2, 5, 6, 2, 3, 4, 5, 6, 7, 8, 10, 2, 3, 4, 5, 8, 10, 10, 5, 9, 3, 5, 8, 10, 1, 2, 3, 4, 5, 6, 7, 8, 9, 10, 4, 5, 6, 9, 1, 2, 3, 5, 6, 8, 10, 1, 4, 5, 6, 7, 8, 9, 10, 2, 7, 3, 8, 4, 3, 5, 6, 7, 9, 10, 1, 3, 6, 7, 5, 4, 5, 9, 10, 1, 2, 7, 8, 1, 2, 3, 5, 6, 7, 9, 1, 5, 6, 7, 9, 3, 1, 2, 3, 4, 5, 6, 7, 8, 9, 10, 3, 5, 6, 7, 3, 4, 6, 2, 7, 10, 1, 4, 8, 10, 1, 3, 6, 7, 9, 1, 2, 5, 7, 8, 9, 7, 9, 3, 8, 2, 6, 9, 10, 2, 5, 7, 6, 3, 4, 4, 3, 7, 3, 6, 7, 9, 3, 4, 8, 4, 10, 1, 2, 3, 9, 10, 3, 7, 5, 6, 7, 10, 4, 5, 4, 8, 3, 10, 6, 3, 7, 5, 7, 10, 4, 7, 9, 2, 6, 9, 9, 6, 9, 1, 2, 3, 9, 1, 4, 1, 4, 10, 2, 8, 3, 5, 8, 9, 6, 10, 3, 5, 9, 10, 3, 4, 7, 7, 10, 1, 2, 3, 4, 5, 7, 8, 9, 10, 3, 6, 2, 3, 8, 10, 3, 4, 5, 6, 8, 4, 5, 8, 3, 5, 7, 5, 2, 7, 4, 8, 10, 1, 4, 9, 10, 1, 3, 4, 5, 7, 9, 10, 1, 1, 2, 1, 5, 2, 3, 4, 9, 3, 4, 5, 10, 1, 2, 3, 4, 5, 7, 8, 9, 1, 5, 6, 8, 7, 10, 4, 5, 7, 8, 2, 8, 3, 4, 7, 8, 10, 1, 5, 1, 2, 6, 8, 9, 9, 3, 1, 6, 7, 10, 4, 5, 7, 9, 3, 9, 10, 8, 1, 2, 3, 4, 5, 6, 7, 8, 9, 10, 2, 2, 3, 5, 8, 10, 3, 7, 9, 1, 2, 5, 1, 2, 9, 10, 3, 4, 7, 2, 3, 6, 8, 2, 4, 1, 2, 4, 5, 7, 10, 3, 6, 7, 9, 10, 3, 4, 6, 7, 6, 2, 3, 4, 5, 8, 10, 4, 7, 9, 10, 7, 8, 1, 5, 6, 1, 2, 3, 5, 6, 9, 10, 1, 3, 9, 10, 2, 3, 4, 9, 1, 2, 4, 9, 10, 1, 5, 7, 9, 10, 7, 8, 10, 5, 8, 3, 6, 8, 9, 1, 2, 4, 5, 6, 8, 9, 10, 1, 4, 7, 1, 2, 3, 4, 5, 6, 10, 3, 4, 5, 6, 8, 9, 2, 8, 9, 2, 3, 7, 8, 9, 10, 5, 6, 9, 2, 8], \"Freq\": [0.8894207737515466, 0.12507098515109916, 0.2345080971583109, 0.09380323886332435, 0.5315516868921714, 0.13314940874447276, 0.05917751499754345, 0.7988964524668366, 0.25396633588404277, 0.02539663358840428, 0.7111057404753198, 0.9027289564968404, 0.9279208480848145, 0.04732054955743288, 0.9227507163699411, 0.1428568019634906, 0.8214266112900709, 0.8958007089542958, 0.777631607748529, 0.1794534479419682, 0.029908907990328037, 0.679273546510979, 0.097039078072997, 0.21833792566424326, 0.9014054966296697, 0.13863985615133564, 0.11343260957836553, 0.5671630478918276, 0.16384710272430575, 0.044646953554536635, 0.8929390710907327, 0.9364707279914846, 0.11040333596818122, 0.8611460205518136, 0.04475523096398466, 0.06340324386564494, 0.0074592051606641105, 0.12307688515095783, 0.7310021057450828, 0.029836820642656442, 0.701019521481898, 0.19118714222233582, 0.03705751541990706, 0.9264378854976765, 0.09135943283787003, 0.045679716418935014, 0.045679716418935014, 0.8222348955408303, 0.9223139389641302, 0.21913397743068191, 0.7304465914356064, 0.04054242710624435, 0.056759397948742095, 0.056759397948742095, 0.016216970842497742, 0.12973576673998194, 0.3486648731137014, 0.24325456263746612, 0.10541031047623532, 0.9770197451918332, 0.9354127676965787, 0.9731467017612534, 0.0021320384628223128, 0.8016464620211895, 0.02558446155386775, 0.014924269239756188, 0.0021320384628223128, 0.13645046162062802, 0.014924269239756188, 0.22536232189210953, 0.18028985751368762, 0.022536232189210952, 0.4281884115950081, 0.045072464378421905, 0.06760869656763285, 0.022536232189210952, 0.9492271752176498, 0.07590226288633059, 0.07590226288633059, 0.8349248917496365, 0.167472502707013, 0.7815383459660606, 0.07587664283044859, 0.885227499688567, 0.037592390521430104, 0.07518478104286021, 0.15036956208572042, 0.4699048815178763, 0.07518478104286021, 0.16916575734643546, 0.854508668096607, 0.023736351891572416, 0.11868175945786208, 0.2294197362802237, 0.049161372060047934, 0.08193562010007989, 0.4916137206004793, 0.09832274412009587, 0.032774248040031956, 0.18396519176478116, 0.7971824976473849, 0.12316119899328169, 0.04926447959731268, 0.17242567859059438, 0.6404382347650648, 0.13328957101977032, 0.844167283125212, 0.05478252669333327, 0.6208686358577771, 0.03652168446222218, 0.10956505338666654, 0.1643475800799998, 0.8844012233175742, 0.9739383952963715, 0.9172059753680187, 0.06114706502453458, 0.19699102735544216, 0.14326620171304885, 0.053724825642393316, 0.03581655042826221, 0.053724825642393316, 0.48352343078153986, 0.7036494672378624, 0.27749556454450913, 0.6437857685497586, 0.0830691314257753, 0.24920739427732588, 0.06544674317291811, 0.010907790528819686, 0.9162544044208536, 0.01228922815077529, 0.1351815096585282, 0.5038583541817869, 0.24578456301550583, 0.036867684452325876, 0.04915691260310116, 0.9441220166590136, 0.0580626354996406, 0.8128768969949685, 0.1161252709992812, 0.8450675834844059, 0.11022620654144424, 0.11420026490776455, 0.8565019868082341, 0.033180088236332006, 0.8958623823809642, 0.033180088236332006, 0.7866602087908835, 0.19666505219772087, 0.08331612688786827, 0.055544084591912186, 0.8470472900266608, 0.9425077421393777, 0.8228032541066337, 0.16456065082132676, 0.19017960845907306, 0.7607184338362922, 0.4191405270338245, 0.06706248432541191, 0.3185468005457066, 0.16765621081352977, 0.08362912139351565, 0.041814560696757826, 0.8362912139351566, 0.057452385505682706, 0.8617857825852406, 0.1016524490525412, 0.8640458169466002, 0.11077633876872262, 0.8492852638935401, 0.03692544625624087, 0.010569523520013923, 0.010569523520013923, 0.972396163841281, 0.9543244296212468, 0.44103842476150334, 0.037803293550986, 0.5040439140131467, 0.07341360664919104, 0.8809632797902925, 0.01675687506681121, 0.10054125040086727, 0.01675687506681121, 0.871357503474183, 0.9380952347847248, 0.2898909167724111, 0.471072739755168, 0.07247272919310277, 0.036236364596551385, 0.07247272919310277, 0.036236364596551385, 0.05770697279823193, 0.05770697279823193, 0.8078976191752469, 0.931531891340389, 0.015525531522339818, 0.015525531522339818, 0.031051063044679635, 0.9552583919054908, 0.013106034640673296, 0.006553017320336648, 0.013106034640673296, 0.9632935460894874, 0.04112042485929132, 0.904649346904409, 0.07037407128231996, 0.9148629266701594, 0.9354415051744984, 0.6904159027554281, 0.06422473514003982, 0.14450565406508958, 0.08028091892504978, 0.017223040314712054, 0.24112256440596874, 0.7233676932179063, 0.5995988377104109, 0.19986627923680364, 0.03997325584736073, 0.15989302338944292, 0.948516298696989, 0.015176260779151823, 0.007588130389575912, 0.015176260779151823, 0.9644276735797822, 0.8444934951887991, 0.1164818614053516, 0.8547937830441797, 0.10684922288052247, 0.6073133218248454, 0.015572136457047319, 0.1712935010275205, 0.062288545828189275, 0.0778606822852366, 0.062288545828189275, 0.06074691565293326, 0.9112037347939989, 0.0411503942915534, 0.0411503942915534, 0.9053086744141747, 0.2729463582893424, 0.015163686571630133, 0.015163686571630133, 0.015163686571630133, 0.6065474628652053, 0.07581843285815067, 0.8432176866123026, 0.10880228214352292, 0.02720057053588073, 0.925916311301337, 0.15404723855332655, 0.20026141011932452, 0.539165334936643, 0.07702361927666328, 0.015404723855332656, 0.8830697636645005, 0.0913520445170173, 0.03045068150567243, 0.04881880663330328, 0.8055103094495041, 0.09763761326660655, 0.02440940331665164, 0.13841408670048247, 0.05536563468019299, 0.8028017028627984, 0.25472777314418943, 0.4506722140243351, 0.1861472188361384, 0.07837777635205828, 0.029391666132021856, 0.8224272031079861, 0.12652726201661324, 0.973996567351809, 0.1355710391720547, 0.17254495894625146, 0.5176348768387544, 0.04929855969892899, 0.024649279849464495, 0.08627247947312573, 0.9288932351091987, 0.05160517972828882, 0.9224773753188377, 0.9520232159753761, 0.06877929353863751, 0.06877929353863751, 0.8253515224636502, 0.7530500469254438, 0.23780527797645593, 0.12178962071091455, 0.060894810355457275, 0.5683515633176013, 0.12178962071091455, 0.14208789082940032, 0.06977933896109008, 0.05981086196664864, 0.8572890215219638, 0.09605393603297699, 0.8164584562803043, 0.048026968016488494, 0.05400689094534968, 0.05400689094534968, 0.08101033641802453, 0.8101033641802453, 0.35625675601623413, 0.04824310237719837, 0.15957333863227155, 0.14472930713159513, 0.07793116537855123, 0.0037110078751691057, 0.21152744888463904, 0.815673713587363, 0.10195921419842037, 0.12469270677847699, 0.8603796767714912, 0.017538708747213316, 0.19292579621934647, 0.043846771868033284, 0.07892418936245992, 0.4735451361747595, 0.11400160685688654, 0.07892418936245992, 0.8052886774448249, 0.06600726864301844, 0.06600726864301844, 0.05280581491441475, 0.9438494756778236, 0.02835856355503515, 0.9358325973161599, 0.7078998377043662, 0.06741903216232058, 0.20225709648696175, 0.019386813257940817, 0.038773626515881635, 0.9305670363811591, 0.8239710509843776, 0.11771015014062537, 0.10003251966955076, 0.8502764171911815, 0.04795364182608152, 0.1198841045652038, 0.6233973437390598, 0.04795364182608152, 0.14386092547824456, 0.15014092256789013, 0.7507046128394507, 0.07507046128394507, 0.034376131169090086, 0.034376131169090086, 0.9281555415654323, 0.9564394556880877, 0.06456125368635861, 0.043040835790905736, 0.021520417895452868, 0.8608167158181147, 0.022693866444011515, 0.9758362570924952, 0.9617804221383525, 0.033165938396367264, 0.9286462750982835, 0.033165938396367264, 0.11584568458064531, 0.8109197920645173, 0.906576752431765, 0.058488822737533225, 0.06487312980477238, 0.03243656490238619, 0.875787252364427, 0.8763737625222253, 0.08763737625222254, 0.9591137561741302, 0.03818844396840623, 0.13365955388942183, 0.05728266595260935, 0.6301093254787029, 0.1145653319052187, 0.9345774005365496, 0.8990752285111658, 0.7741896756367457, 0.20645058016979884, 0.8323982671056899, 0.12485974006585349, 0.07888235008495492, 0.07888235008495492, 0.8151176175445343, 0.6120249652706965, 0.2890117891556067, 0.08500346739870786, 0.668860454174963, 0.1486356564833251, 0.1486356564833251, 0.9316642171483676, 0.9697660641458753, 0.6098897250285621, 0.07468037449329332, 0.024893458164431108, 0.049786916328862216, 0.049786916328862216, 0.17425420715101775, 0.09585037064062854, 0.04792518532031427, 0.03834014825625141, 0.8051431133812796, 0.8123065295261365, 0.10830753727015152, 0.08738799168860824, 0.594238343482536, 0.20973118005265978, 0.061171594182025765, 0.03495519667544329, 0.9026213809925036, 0.06447295578517882, 0.016118238946294706, 0.15609683496043344, 0.0720446930586616, 0.12007448843110265, 0.09605959074488211, 0.0360223465293308, 0.4442756071950798, 0.06003724421555132, 0.13478056869667698, 0.6861556224558102, 0.024505557944850362, 0.049011115889700724, 0.09802223177940145, 0.09487021491592963, 0.7589617193274371, 0.09487021491592963, 0.8476442088082872, 0.13383855928551902, 0.95898861704811, 0.9676302642354646, 0.9713819109390954, 0.10273654834276819, 0.67806121906227, 0.020547309668553636, 0.06164192900566091, 0.12328385801132181, 0.5565506985300517, 0.05797403109688039, 0.011594806219376077, 0.37103379902003447, 0.9254229702145419, 0.018076367481342177, 0.036152734962684355, 0.7772838016977137, 0.018076367481342177, 0.12653457236939525, 0.9096998949023172, 0.04043110644010298, 0.02021555322005149, 0.13051051501774422, 0.20508795217074094, 0.5220420600709769, 0.018644359288249177, 0.018644359288249177, 0.09322179644124588, 0.13077315507948703, 0.8500255080166658, 0.973100551881534, 0.01630894779689722, 0.32104501174146627, 0.012347885066979472, 0.012347885066979472, 0.6420900234829325, 0.02665148181093805, 0.9594533451937698, 0.4449845185093044, 0.09206576245020091, 0.07672146870850077, 0.2301644061255023, 0.015344293741700153, 0.07672146870850077, 0.04603288122510046, 0.9168969265987336, 0.9627843033407453, 0.02831718539237486, 0.02694927603693775, 0.02694927603693775, 0.107797104147751, 0.8084782811081325, 0.015979690918354387, 0.6551673276525298, 0.04793907275506316, 0.15979690918354386, 0.11185783642848071, 0.02685466071348099, 0.04028199107022148, 0.1879826249943669, 0.7385031696207272, 0.8969043994082636, 0.7569947706825868, 0.07569947706825868, 0.07569947706825868, 0.1113771875868903, 0.03182205359625437, 0.06364410719250874, 0.7796403131082321, 0.17006121712496303, 0.11691708677341209, 0.06377295642186114, 0.01062882607031019, 0.06377295642186114, 0.21257652140620378, 0.09565943463279171, 0.10628826070310189, 0.15943239105465284, 0.051269497572008535, 0.8203119611521366, 0.10253899514401707, 0.8346162615393317, 0.13277985979034823, 0.018968551398621174, 0.8663886930058498, 0.06188490664327498, 0.01574414697413103, 0.8186956426548135, 0.1574414697413103, 0.9333044030086182, 0.9407334788320667, 0.2440193204965397, 0.02440193204965397, 0.7320579614896191, 0.064796956853152, 0.907157395944128, 0.9862330956305492, 0.15454828860643158, 0.19318536075803946, 0.6375116905015302, 0.5544560974613781, 0.0057160422418698785, 0.06859250690243854, 0.07430854914430841, 0.06287646466056866, 0.09717271811178793, 0.02858021120934939, 0.10860480259552768, 0.2189729291301659, 0.629547171249227, 0.1368580807063537, 0.9059332982357865, 0.15058926877714449, 0.012549105731428707, 0.32627674901714643, 0.37647317194286123, 0.03764731719428612, 0.08784374012000096, 0.9272411656450718, 0.9222126535286334, 0.01596671760596606, 0.17563389366562668, 0.766402445086371, 0.03193343521193212, 0.8673699081935708, 0.07885180983577916, 0.9689068211077869, 0.05093587053857347, 0.8149739286171755, 0.10187174107714694, 0.9283852487103045, 0.04219932948683202, 0.10907475717305379, 0.09349264900547467, 0.09349264900547467, 0.5297916776976898, 0.15582108167579112, 0.010832189976818974, 0.010832189976818974, 0.021664379953637947, 0.2491403694668364, 0.27080474942047433, 0.4549519790263969, 0.9256342642695878, 0.6180276097758195, 0.07223699335042046, 0.1846056496732967, 0.008026332594491162, 0.08026332594491162, 0.024078997783473485, 0.062365590447712956, 0.18709677134313887, 0.5197132537309413, 0.10394265074618826, 0.12473118089542591, 0.9650275393410325, 0.028183345953839818, 0.14091672976919908, 0.14091672976919908, 0.155008402746119, 0.5213919001460366, 0.14658349237781207, 0.1832293654722651, 0.4397504771334362, 0.1832293654722651, 0.03664587309445302, 0.007772242987515918, 0.10103915883770695, 0.7849965417391078, 0.0854946728626751, 0.007772242987515918, 0.023316728962547755, 0.02903478468892967, 0.23227827751143737, 0.05806956937785934, 0.6678000478453825, 0.9696370208916266, 0.01365685944917784, 0.036555293683565616, 0.07311058736713123, 0.840771754722009, 0.8170120174417468, 0.10212650218021835, 0.11818187708434921, 0.8272731395904445, 0.9530978207782551, 0.11086071262836933, 0.19400624709964634, 0.6928794539273083, 0.08326793292553696, 0.874313295718138, 0.06490823782616557, 0.9087153295663181, 0.036479135356328476, 0.9575773031036225, 0.9735489489487714, 0.9742518029226503, 0.21541054532415788, 0.7693233761577067, 0.05485155523857014, 0.767921773339982, 0.13712888809642534, 0.18753463833528577, 0.812650099452905, 0.7925552029635472, 0.023310447145986683, 0.046620894291973365, 0.1398626828759201, 0.8697074623486569, 0.013277976524406977, 0.006638988262203488, 0.07966785914644185, 0.019916964786610463, 0.17999097804016798, 0.7799609048407279, 0.8437174303380952, 0.1054646787922619, 0.7420094592735579, 0.015143050189256284, 0.2347172779334724, 0.8124241053414264, 0.16248482106828527, 0.37492191036425954, 0.050665123022197237, 0.09119722143995503, 0.1722614182754706, 0.20266049208878895, 0.10133024604439447, 0.9525625402005653, 0.06263909975096062, 0.35793771286263204, 0.0089484428215658, 0.25950484182540823, 0.11632975668035542, 0.0089484428215658, 0.0089484428215658, 0.06263909975096062, 0.11632975668035542, 0.81597109237068, 0.11656729891009715, 0.8486929764838308, 0.12124185378340441, 0.2030485357769003, 0.42171618969048524, 0.14057206323016175, 0.015619118136684639, 0.2030485357769003, 0.9437145836113848, 0.11596743609372645, 0.8697557707029484, 0.8270011620930545, 0.1305791308567981, 0.9309041816505261, 0.12532131653783535, 0.08772492157648473, 0.13785344819161888, 0.6140744510353932, 0.0375963949613506, 0.8970780301835601, 0.06407700215596858, 0.8073440157222869, 0.13455733595371447, 0.010028958869599761, 0.010028958869599761, 0.972809010351177, 0.8662406516878047, 0.08662406516878048, 0.8856489069235366, 0.10419398904982782, 0.7727899085821073, 0.17833613274971705, 0.9525570240446375, 0.9415753415214414, 0.9471212463176766, 0.14998074888255372, 0.5624278083095765, 0.08436417124643647, 0.16872834249287294, 0.03749518722063843, 0.1074098844496571, 0.5967215802758727, 0.17901647408276183, 0.1074098844496571, 0.011934431605517456, 0.9541449373985634, 0.2835234640028983, 0.09800811101334755, 0.15751303555716573, 0.12601042844573257, 0.1295107181247807, 0.13651129748287696, 0.06650550390191441, 0.9617859177178091, 0.15321783769100986, 0.0278577886710927, 0.1114311546843708, 0.6825158224417711, 0.01392889433554635, 0.01392889433554635, 0.9090391073341918, 0.8513661201620899, 0.11351548268827866, 0.9575496707794023, 0.9571894515946312, 0.850264176552614, 0.12146631093608772, 0.1733423190920395, 0.6467001904587628, 0.080004147273249, 0.00666701227277075, 0.08667115954601975, 0.1040671619965014, 0.7909104311734106, 0.08325372959720112, 0.8352740251116778, 0.12850369617102736, 0.08050849241836737, 0.7514125959047621, 0.13418082069727894, 0.7983278165849957, 0.05322185443899972, 0.10644370887799944, 0.9663386751418058, 0.4079208501348257, 0.23744646500385377, 0.11567904705315953, 0.12785578884822896, 0.10350230525809011, 0.006088370897534712, 0.006088370897534712, 0.6628841537495529, 0.15909219689989268, 0.05303073229996423, 0.10606146459992846, 0.0497251884395355, 0.4475266959558195, 0.49725188439535506, 0.8933215071634147, 0.059554767144227645, 0.035262545008609265, 0.017631272504304633, 0.7934072626937084, 0.052893817512913895, 0.008815636252152316, 0.08815636252152316, 0.9427217613233563, 0.007011223520775819, 0.7992794813684434, 0.19631425858172294, 0.05949559916975561, 0.8924339875463341, 0.1340827863058112, 0.8044967178348671, 0.10786146568789787, 0.009805587789808898, 0.009805587789808898, 0.8628917255031829, 0.06651286956656294, 0.8912724521919433, 0.013302573913312587, 0.013302573913312587, 0.11466768142956309, 0.019111280238260513, 0.03822256047652103, 0.592449687386076, 0.21022408262086564, 0.02280475919510558, 0.02280475919510558, 0.9349951269993287, 0.9327096860835767, 0.14807202816672588, 0.7107457352002843, 0.11845762253338071, 0.17200038837044485, 0.7740017476670018, 0.095248910744572, 0.8572401967011479, 0.6620104209819421, 0.33100521049097104, 0.4610254990109766, 0.12717944800302802, 0.2702563270064346, 0.12717944800302802, 0.00820315098895313, 0.667189613768188, 0.0009114612209947923, 0.070182514016599, 0.003645844883979169, 0.019140685640890637, 0.018229224419895846, 0.10481804041440111, 0.10846388529838027, 0.88919970580761, 0.12377052383154193, 0.8045084049050225, 0.7766700730846453, 0.1194877035514839, 0.08606598209837489, 0.08606598209837489, 0.1844271044965176, 0.11065626269791057, 0.5286910328900172, 0.6518901288456804, 0.06518901288456803, 0.19556703865370412, 0.03259450644228402, 0.915586385537508, 0.04161756297897764, 0.9084989716207612, 0.10089080357076233, 0.8575718303514798, 0.4278331094906556, 0.5545984752656646, 0.9572709313684986, 0.7403198118426437, 0.08358449488545977, 0.11940642126494254, 0.05970321063247127, 0.9147328796564675, 0.13263794427999798, 0.5071450810705805, 0.015604464032940938, 0.07802232016470469, 0.03901116008235234, 0.14824240831293892, 0.07022008814823422, 0.16449824149541678, 0.01827758238837964, 0.4203843949327318, 0.16449824149541678, 0.07311032955351857, 0.14622065910703713, 0.4193907877677676, 0.025417623501076823, 0.12708811750538412, 0.012708811750538411, 0.16521455275699937, 0.22875861150969143, 0.9438010942539968, 0.08524938371895556, 0.7672444534706, 0.12787407557843333, 0.6231167524625115, 0.27533065806483065, 0.0869465235994202, 0.20596263079964797, 0.1626020769470905, 0.49864636930441086, 0.08672110770511493, 0.043360553852557465, 0.9253594511578561, 0.030845315038595205, 0.06169063007719041, 0.04710710553051733, 0.16487486935681064, 0.7537136884882772, 0.974672036802525, 0.044252311215511514, 0.002950154081034101, 0.10325539283619353, 0.46317419072235383, 0.12685662548446633, 0.15340801221377326, 0.10325539283619353, 0.7268638693192309, 0.2535571637160108, 0.7928762294697964, 0.1585752458939593, 0.1026508620495473, 0.8725323274211522, 0.08652584345204081, 0.8219955127943878, 0.12175312002788909, 0.12175312002788909, 0.7609570001743068, 0.004656817809266019, 0.5169067768285281, 0.005821022261582524, 0.4144567850246757, 0.0023284089046330097, 0.017463066784747572, 0.03376192911717864, 0.003492613356949514, 0.5118658730292369, 0.01066387235477577, 0.25593293651461846, 0.01066387235477577, 0.138630340612085, 0.06398323412865461, 0.9741763405125039, 0.9721428775369484, 0.9538819087990189, 0.028405689098176458, 0.7811564501998526, 0.08521706729452938, 0.0994199118436176, 0.3223940000772054, 0.08839835485987892, 0.09359825808693062, 0.10919796776808571, 0.005199903227051701, 0.12999758067629252, 0.11439787099513742, 0.005199903227051701, 0.015599709681155103, 0.11959777422218912, 0.05618477387709226, 0.11236954775418452, 0.02809238693854613, 0.8146792212178378, 0.09536715436572027, 0.15894525727620046, 0.07417445339556021, 0.3920649679479611, 0.010596350485080031, 0.14834890679112042, 0.11655985533588033, 0.010218702269812144, 0.010218702269812144, 0.0034062340899373815, 0.9094645020132809, 0.013624936359749526, 0.0034062340899373815, 0.04087480907924858, 0.010218702269812144, 0.15615343434739976, 0.8328183165194653, 0.24299695271510618, 0.7289908581453186, 0.9345252975180838, 0.10713668391255013, 0.46425896362105057, 0.07142445594170009, 0.035712227970850045, 0.12499279789797516, 0.1785611398542502, 0.07675422280132682, 0.7291651166126047, 0.07675422280132682, 0.07675422280132682, 0.9791078198836021, 0.17460444177876017, 0.23280592237168024, 0.11640296118584012, 0.4656118447433605, 0.21768727958509235, 0.740136750589314, 0.09504379075091034, 0.855394116758193, 0.32118126392925345, 0.038235864753482555, 0.05353021065487557, 0.16059063196462672, 0.2829453991757709, 0.1300019401618407, 0.022941518852089532, 0.008718837925342235, 0.043594189626711174, 0.8282896029075123, 0.026156513776026704, 0.08718837925342235, 0.9444479893762248, 0.9445904277041144, 0.1466709513671093, 0.006376997885526492, 0.06376997885526492, 0.5229138266131723, 0.1466709513671093, 0.04463898519868544, 0.012753995771052984, 0.03188498942763246, 0.019130993656579477, 0.18888624094351866, 0.041974720209670816, 0.6925828834595684, 0.06296208031450622, 0.7528293343948584, 0.0941036667993573, 0.0941036667993573, 0.5928570141428278, 0.28744582503894683, 0.08982682032467088, 0.8815293717183024, 0.08013903379257295, 0.017839178813994775, 0.9633156559557179, 0.16407420356680913, 0.12305565267510683, 0.02050927544585114, 0.10254637722925569, 0.5742597124838319, 0.017748983117206206, 0.21298779740647447, 0.03549796623441241, 0.17748983117206207, 0.34610517078552105, 0.21298779740647447, 0.051711878419764, 0.9308138115557519, 0.11646330114175905, 0.8152431079923134, 0.021467007077502202, 0.7942792618675815, 0.12880204246501323, 0.042934014155004405, 0.12353302022084395, 0.13897464774844945, 0.7257564937974582, 0.9670322159370481, 0.7539975312339261, 0.22619925937017782, 0.8486312433834579, 0.8646435031806664, 0.11790593225190905, 0.9632568642484381, 0.6951242203844783, 0.09066837657188848, 0.18133675314377695, 0.7312450759497292, 0.175498818227935, 0.05849960607597834, 0.7885422870879742, 0.13142371451466237, 0.7414313600412523, 0.12783299311056073, 0.0511331972442243, 0.07669979586633645, 0.9867331599497432, 0.8682342160877025, 0.0913930753776529, 0.9361364979214607, 0.0377633950708737, 0.868558086630095, 0.0755267901417474, 0.21583119502307307, 0.7708256965109752, 0.8913941251342078, 0.08489467858421026, 0.8047475483277022, 0.11496393547538603, 0.9309248929578976, 0.8651386486178265, 0.09612651651309183, 0.11639066980160923, 0.669246351359253, 0.20368367215281613, 0.10942262392561827, 0.6838913995351141, 0.19148959186983197, 0.7814708441663551, 0.18606448670627504, 0.9218744931773227, 0.9188940971734901, 0.8697886935693193, 0.0724823911307766, 0.10764818400698851, 0.07176545600465901, 0.8073613800524139, 0.017941364001164754, 0.03934348211947552, 0.9442435708674124, 0.1148582308604466, 0.8040076160231261, 0.0574291154302233, 0.11646624965580506, 0.8152637475906355, 0.057351955990288236, 0.7742514058688912, 0.08602793398543235, 0.057351955990288236, 0.24478436096956568, 0.734353082908697, 0.9030759219390161, 0.0129010845991288, 0.0516043383965152, 0.0129010845991288, 0.9426655797804813, 0.10496240679156503, 0.8606917356908332, 0.8322884079423564, 0.10403605099279455, 0.01813849937736595, 0.06801937266512231, 0.6416494154743204, 0.0022673124221707437, 0.14737530744109834, 0.09295980930900048, 0.0022673124221707437, 0.022673124221707436, 0.0022673124221707437, 0.20597535870070685, 0.7415112913225447, 0.6226744250284991, 0.15566860625712478, 0.17512718203926536, 0.038917151564281195, 0.046321694776221715, 0.41689525298599545, 0.15440564925407238, 0.030881129850814478, 0.33969242835895924, 0.02369916761580597, 0.09479667046322388, 0.8531700341690149, 0.2500278103186651, 0.10001112412746606, 0.6500723068285293, 0.9360631506039961, 0.036772139059952726, 0.9560756155587709, 0.7436971511047948, 0.09915962014730598, 0.14873943022095898, 0.9008061507039563, 0.04741085003705033, 0.015803616679016776, 0.015803616679016776, 0.08004792093298581, 0.01600958418659716, 0.048028752559791485, 0.01600958418659716, 0.4482683572247205, 0.14408625767937447, 0.24014376279895744, 0.9702255619091402, 0.872200759973742, 0.07929097817943109, 0.8260266931050626, 0.11800381330072322, 0.6677118765626258, 0.06070107968751143, 0.06070107968751143, 0.18210323906253428, 0.6920726629836851, 0.2869569578225036, 0.8305099258563312, 0.09770705010074485, 0.07801230346111293, 0.007092027587373904, 0.007092027587373904, 0.2836811034949561, 0.07092027587373903, 0.3120492138444517, 0.007092027587373904, 0.23403691038333882, 0.0631084440952235, 0.037865066457134104, 0.0126216888190447, 0.8708965285140843, 0.21018392607963723, 0.7706743956253366, 0.01412010419012464, 0.6212845843654842, 0.28240208380249276, 0.07060052095062319, 0.01564495141017056, 0.9543420360204043, 0.169789550495865, 0.46692126386362875, 0.1379540097778903, 0.04244738762396625, 0.18040139740185657, 0.16496773153758396, 0.7698494138420584, 0.10291362593717315, 0.7718521945287986, 0.10291362593717315, 0.07797683201946279, 0.8577451522140908, 0.8908753972976657, 0.9212327425200115, 0.77648314656087, 0.03075180778458891, 0.11531927919220841, 0.07687951946147227, 0.7578451533175996, 0.0688950139379636, 0.0344475069689818, 0.1033425209069454, 0.19460534036900723, 0.058381602110702174, 0.7395002934022276, 0.9442874697508206, 0.04551792005664253, 0.15551956019352864, 0.1365537601699276, 0.1024153201274457, 0.08724268010856484, 0.23517592029265308, 0.08344952010384464, 0.04931108006136274, 0.09103584011328505, 0.018965800023601053, 0.9372803853682575, 0.08044672305838524, 0.08044672305838524, 0.6033504229378893, 0.08044672305838524, 0.14078176535217415, 0.9352626915549249, 0.1325054008958189, 0.7950324053749134, 0.8908634199988477, 0.9060487702954698, 0.06969605925349767, 0.020552421558960667, 0.6987823330046627, 0.061657264676882005, 0.20552421558960668, 0.7887246402137156, 0.05842404742323819, 0.14606011855809548, 0.9042692747014028, 0.020961339882232373, 0.06288401964669713, 0.8803762750537597, 0.12278049671658961, 0.7980732286578325, 0.14802187843134276, 0.004353584659745375, 0.6922199608995148, 0.004353584659745375, 0.13496112445210665, 0.013060753979236128, 0.023767190410697334, 0.5941797602674334, 0.09506876164278934, 0.142603142464184, 0.142603142464184, 0.0314068139187488, 0.1099238487156208, 0.1413306626343696, 0.6909499062124735, 0.9347979111288921, 0.09199065827975518, 0.6439346079582863, 0.06899299370981639, 0.11498832284969397, 0.022997664569938795, 0.022997664569938795, 0.08984115959316959, 0.11978821279089279, 0.029947053197723197, 0.7187292767453567, 0.9496474420673073, 0.03956864341947114, 0.024873067037523042, 0.8456842792757834, 0.12436533518761521, 0.16438115753297752, 0.0778647588314104, 0.5796598713004997, 0.10381967844188054, 0.05190983922094027, 0.008651639870156713, 0.008651639870156713, 0.9290405920674013, 0.05111569305517264, 0.05111569305517264, 0.8178510888827623, 0.019470366253769404, 0.019470366253769404, 0.09735183126884701, 0.8566961151658538, 0.8698865402532758, 0.03624527251055316, 0.06524149051899568, 0.007249054502110632, 0.007249054502110632, 0.6624301956890667, 0.012988827366452288, 0.16885475576387973, 0.05195530946580915, 0.07793296419871373, 0.27838720540327044, 0.07592378329180102, 0.6326981940983419, 0.7885747174322668, 0.12131918729727183, 0.6140984938957097, 0.16748140742610265, 0.09304522634783481, 0.11165427161740177, 0.002607930930471088, 0.002607930930471088, 0.005215861860942176, 0.002607930930471088, 0.13822033931496763, 0.005215861860942176, 0.7302206605319045, 0.10953309907978569, 0.6577722495150417, 0.12116857227908662, 0.2077175524784342, 0.044961727355561885, 0.008992345471112377, 0.24279332772003417, 0.017984690942224754, 0.5035713463822932, 0.0809311092400114, 0.09891580018223615, 0.06768023331100767, 0.14288049254546062, 0.23312080362680418, 0.12032041477512473, 0.015040051846890591, 0.4211214517129366, 0.05750142346383832, 0.718767793297979, 0.20125498212343412, 0.004630965646930503, 0.004630965646930503, 0.018523862587722012, 0.009261931293861006, 0.9586098889146142, 0.004630965646930503, 0.9517461278306233, 0.8404771631554615, 0.12006816616506594, 0.9509878634992177, 0.050051992815748306], \"Term\": [\"abortion\", \"actally\", \"actally\", \"actally\", \"actally\", \"ad\", \"ad\", \"ad\", \"adience\", \"adience\", \"adience\", \"afghanitan\", \"african\", \"age\", \"age\", \"agent\", \"agent\", \"ahead\", \"ahole\", \"ahole\", \"ahole\", \"air\", \"air\", \"air\", \"airline\", \"ak\", \"ak\", \"ak\", \"ak\", \"albm\", \"albm\", \"alert\", \"america\", \"america\", \"american\", \"american\", \"american\", \"american\", \"american\", \"american\", \"amont\", \"amont\", \"ander\", \"ander\", \"andwich\", \"andwich\", \"andwich\", \"andwich\", \"angel\", \"animal\", \"animal\", \"annonce\", \"annonce\", \"annonce\", \"annonce\", \"annonce\", \"annonce\", \"annonce\", \"annonce\", \"ant\", \"anti\", \"appearance\", \"area\", \"area\", \"area\", \"area\", \"area\", \"area\", \"area\", \"arond\", \"arond\", \"arond\", \"arond\", \"arond\", \"arond\", \"arond\", \"art\", \"athoritie\", \"athoritie\", \"athoritie\", \"average\", \"average\", \"award\", \"award\", \"away\", \"away\", \"away\", \"away\", \"away\", \"away\", \"b\", \"b\", \"b\", \"bad\", \"bad\", \"bad\", \"bad\", \"bad\", \"bad\", \"bag\", \"bag\", \"band\", \"band\", \"band\", \"band\", \"bank\", \"bank\", \"bar\", \"bar\", \"bar\", \"bar\", \"bar\", \"barely\", \"beatifl\", \"bernie\", \"bernie\", \"bet\", \"bet\", \"bet\", \"bet\", \"bet\", \"bet\", \"bh\", \"bh\", \"biden\", \"biden\", \"biden\", \"big\", \"big\", \"big\", \"bill\", \"bill\", \"bill\", \"bill\", \"bill\", \"bill\", \"bin\", \"bine\", \"bine\", \"bine\", \"bird\", \"bird\", \"birth\", \"birth\", \"birthday\", \"birthday\", \"birthday\", \"bite\", \"bite\", \"black\", \"black\", \"black\", \"bnch\", \"bo\", \"bo\", \"bob\", \"bob\", \"book\", \"book\", \"book\", \"book\", \"bottle\", \"bottle\", \"bottle\", \"cabinet\", \"cabinet\", \"camera\", \"camera\", \"camp\", \"camp\", \"camp\", \"campaign\", \"campaign\", \"campaign\", \"cancer\", \"candidate\", \"candidate\", \"candidate\", \"capable\", \"capable\", \"cat\", \"cat\", \"cat\", \"cat\", \"celebrate\", \"ceo\", \"ceo\", \"ceo\", \"ceo\", \"ceo\", \"ceo\", \"channel\", \"channel\", \"channel\", \"child\", \"child\", \"child\", \"child\", \"chinee\", \"chool\", \"chool\", \"chool\", \"chool\", \"chrch\", \"chrch\", \"chritian\", \"chritian\", \"cia\", \"cientit\", \"cientit\", \"cientit\", \"cientit\", \"cla\", \"cla\", \"cla\", \"clearly\", \"clearly\", \"clearly\", \"clearly\", \"clinton\", \"clinton\", \"clinton\", \"clinton\", \"cnn\", \"coffee\", \"coffee\", \"cold\", \"cold\", \"college\", \"college\", \"college\", \"college\", \"college\", \"college\", \"committee\", \"committee\", \"commnity\", \"commnity\", \"commnity\", \"company\", \"company\", \"company\", \"company\", \"company\", \"company\", \"completely\", \"completely\", \"completely\", \"compter\", \"congre\", \"congre\", \"congre\", \"congre\", \"congre\", \"congreman\", \"congreman\", \"congreman\", \"contry\", \"contry\", \"contry\", \"contry\", \"converation\", \"converation\", \"converation\", \"cople\", \"cople\", \"cople\", \"cople\", \"cople\", \"corporation\", \"corporation\", \"cort\", \"coworker\", \"coworker\", \"coworker\", \"coworker\", \"coworker\", \"coworker\", \"crah\", \"crah\", \"credit\", \"crew\", \"crrent\", \"crrent\", \"crrent\", \"crrently\", \"crrently\", \"ctomer\", \"ctomer\", \"ctomer\", \"ctomer\", \"ctomer\", \"dad\", \"dad\", \"dad\", \"dance\", \"dance\", \"dance\", \"date\", \"date\", \"date\", \"date\", \"day\", \"day\", \"day\", \"day\", \"day\", \"day\", \"day\", \"ddenly\", \"ddenly\", \"dead\", \"dead\", \"death\", \"death\", \"death\", \"death\", \"death\", \"death\", \"death\", \"debate\", \"debate\", \"debate\", \"debate\", \"decade\", \"deep\", \"deep\", \"dek\", \"dek\", \"dek\", \"department\", \"department\", \"department\", \"depreion\", \"depreion\", \"dick\", \"dick\", \"dicover\", \"dicover\", \"dicover\", \"dicover\", \"dicover\", \"dinner\", \"dinner\", \"dinner\", \"director\", \"director\", \"director\", \"divorce\", \"doctor\", \"doctor\", \"doctor\", \"doctor\", \"dog\", \"dog\", \"donald\", \"door\", \"door\", \"door\", \"dreed\", \"dreed\", \"drg\", \"drg\", \"driver\", \"driver\", \"driver\", \"drone\", \"drone\", \"drop\", \"e\", \"e\", \"e\", \"e\", \"e\", \"ea\", \"ean\", \"ear\", \"ear\", \"economy\", \"economy\", \"ecret\", \"ecret\", \"ecret\", \"ecretary\", \"ecretary\", \"ecretary\", \"ecrity\", \"ecrity\", \"ecrity\", \"ection\", \"ed\", \"ee\", \"ee\", \"ee\", \"ee\", \"ee\", \"ee\", \"elf\", \"elf\", \"elf\", \"elf\", \"elizabeth\", \"elizabeth\", \"employee\", \"employee\", \"employee\", \"employee\", \"employee\", \"end\", \"end\", \"end\", \"enogh\", \"enogh\", \"enogh\", \"enogh\", \"enogh\", \"enogh\", \"enogh\", \"entire\", \"entire\", \"entire\", \"entire\", \"entire\", \"epa\", \"epa\", \"epa\", \"epiode\", \"epiode\", \"eric\", \"erie\", \"ervice\", \"et\", \"et\", \"et\", \"et\", \"et\", \"ex\", \"ex\", \"ex\", \"ex\", \"extra\", \"eye\", \"eye\", \"eye\", \"eye\", \"eye\", \"face\", \"face\", \"face\", \"facebook\", \"facebook\", \"facebook\", \"facebook\", \"facebook\", \"facebook\", \"fall\", \"fall\", \"family\", \"family\", \"fan\", \"fan\", \"fan\", \"fan\", \"fat\", \"fat\", \"father\", \"father\", \"father\", \"father\", \"father\", \"father\", \"father\", \"fear\", \"female\", \"female\", \"figre\", \"figre\", \"figre\", \"figre\", \"film\", \"film\", \"film\", \"film\", \"film\", \"finally\", \"finally\", \"finally\", \"finally\", \"find\", \"fine\", \"fine\", \"fine\", \"fire\", \"fire\", \"fire\", \"fire\", \"firt\", \"firt\", \"firt\", \"firt\", \"firt\", \"firt\", \"firt\", \"firt\", \"firt\", \"fit\", \"fit\", \"fit\", \"fll\", \"fll\", \"fll\", \"fneral\", \"fneral\", \"food\", \"food\", \"food\", \"foot\", \"football\", \"force\", \"force\", \"force\", \"forth\", \"forth\", \"franci\", \"free\", \"free\", \"free\", \"friend\", \"friend\", \"friend\", \"friend\", \"friend\", \"friend\", \"friend\", \"friend\", \"ftre\", \"ftre\", \"ftre\", \"ga\", \"game\", \"game\", \"game\", \"game\", \"game\", \"game\", \"gard\", \"garden\", \"gay\", \"gay\", \"gay\", \"gay\", \"general\", \"general\", \"george\", \"gget\", \"gget\", \"gget\", \"giant\", \"giant\", \"girlfriend\", \"girlfriend\", \"girlfriend\", \"girlfriend\", \"girlfriend\", \"god\", \"god\", \"god\", \"god\", \"god\", \"god\", \"goddamn\", \"good\", \"good\", \"good\", \"good\", \"good\", \"good\", \"government\", \"government\", \"government\", \"government\", \"government\", \"grade\", \"great\", \"great\", \"great\", \"great\", \"great\", \"grop\", \"grop\", \"grop\", \"grop\", \"grop\", \"gy\", \"gy\", \"gy\", \"gy\", \"gy\", \"gy\", \"hair\", \"hair\", \"hair\", \"hair\", \"hand\", \"hand\", \"hband\", \"hband\", \"hband\", \"headqarter\", \"headqarter\", \"heart\", \"heart\", \"heaven\", \"help\", \"help\", \"help\", \"hero\", \"hero\", \"hge\", \"hge\", \"high\", \"high\", \"hillary\", \"hirt\", \"hitorical\", \"hitorical\", \"hitory\", \"hitory\", \"hitory\", \"hitty\", \"hitty\", \"hman\", \"hman\", \"hman\", \"hman\", \"hoe\", \"hoe\", \"hoe\", \"hoe\", \"hoe\", \"hold\", \"hold\", \"holiday\", \"holiday\", \"home\", \"home\", \"home\", \"hooting\", \"hooting\", \"hor\", \"hor\", \"hor\", \"hor\", \"hor\", \"hor\", \"hore\", \"hot\", \"hot\", \"hot\", \"hot\", \"hot\", \"hot\", \"hot\", \"hot\", \"hot\", \"hower\", \"hower\", \"icide\", \"icide\", \"idea\", \"idea\", \"idea\", \"idea\", \"idea\", \"idiot\", \"ign\", \"ign\", \"immigrant\", \"immigrant\", \"increaingly\", \"ingle\", \"ingle\", \"ingle\", \"ingle\", \"ingle\", \"interior\", \"interior\", \"interview\", \"interview\", \"introdce\", \"introdce\", \"introdce\", \"invetigation\", \"invetigation\", \"iraq\", \"iraq\", \"ix\", \"ix\", \"jame\", \"je\", \"jeb\", \"job\", \"job\", \"job\", \"job\", \"job\", \"john\", \"john\", \"john\", \"john\", \"john\", \"jong\", \"jt\", \"jt\", \"jt\", \"jt\", \"jt\", \"jt\", \"jt\", \"kelly\", \"kid\", \"kid\", \"kid\", \"kid\", \"kid\", \"kid\", \"killer\", \"kim\", \"kim\", \"korea\", \"laden\", \"large\", \"large\", \"lat\", \"lat\", \"lat\", \"lat\", \"lat\", \"law\", \"law\", \"law\", \"lead\", \"lead\", \"leader\", \"leader\", \"leader\", \"letter\", \"letter\", \"letter\", \"level\", \"life\", \"life\", \"life\", \"life\", \"life\", \"life\", \"life\", \"light\", \"light\", \"light\", \"light\", \"line\", \"line\", \"line\", \"link\", \"link\", \"little\", \"little\", \"little\", \"little\", \"little\", \"little\", \"living\", \"local\", \"local\", \"local\", \"loer\", \"loer\", \"lone\", \"lone\", \"long\", \"long\", \"long\", \"long\", \"lot\", \"lot\", \"lot\", \"lot\", \"love\", \"love\", \"love\", \"love\", \"love\", \"low\", \"low\", \"low\", \"lowly\", \"ma\", \"ma\", \"ma\", \"mail\", \"mail\", \"maive\", \"maive\", \"majority\", \"majority\", \"mall\", \"mall\", \"mall\", \"mall\", \"man\", \"man\", \"man\", \"man\", \"man\", \"man\", \"man\", \"man\", \"man\", \"marine\", \"market\", \"market\", \"mart\", \"mart\", \"mch\", \"mch\", \"mch\", \"mch\", \"mch\", \"meal\", \"meal\", \"meal\", \"meal\", \"meat\", \"meat\", \"meller\", \"mem\", \"mem\", \"middle\", \"middle\", \"mike\", \"minte\", \"minte\", \"minte\", \"minte\", \"mitt\", \"mom\", \"mom\", \"mom\", \"mom\", \"mom\", \"mom\", \"mom\", \"money\", \"money\", \"money\", \"money\", \"money\", \"money\", \"month\", \"month\", \"month\", \"month\", \"month\", \"month\", \"moon\", \"moth\", \"moth\", \"moth\", \"mother\", \"mother\", \"mother\", \"movie\", \"movie\", \"movie\", \"movie\", \"movie\", \"mrder\", \"mrder\", \"mrder\", \"mt\", \"mt\", \"mt\", \"naa\", \"nation\", \"nation\", \"nation\", \"nation\", \"nation\", \"nation\", \"nation\", \"national\", \"national\", \"nearly\", \"nearly\", \"need\", \"need\", \"neighbor\", \"neighbor\", \"neighborhood\", \"neighborhood\", \"neighborhood\", \"new\", \"new\", \"new\", \"new\", \"new\", \"new\", \"new\", \"new\", \"night\", \"night\", \"night\", \"night\", \"night\", \"night\", \"normal\", \"north\", \"nre\", \"nveil\", \"nveil\", \"nveil\", \"nveil\", \"obama\", \"obama\", \"obama\", \"obama\", \"obama\", \"obama\", \"obama\", \"obama\", \"obama\", \"obama\", \"ocar\", \"ocar\", \"ocar\", \"ocar\", \"office\", \"office\", \"office\", \"office\", \"office\", \"office\", \"office\", \"old\", \"old\", \"old\", \"old\", \"old\", \"old\", \"old\", \"old\", \"omeone\", \"omeone\", \"onion\", \"onion\", \"online\", \"open\", \"open\", \"open\", \"open\", \"open\", \"open\", \"orce\", \"orce\", \"orce\", \"orce\", \"owner\", \"pal\", \"pal\", \"pal\", \"pal\", \"pant\", \"pant\", \"paper\", \"paper\", \"parent\", \"parent\", \"parent\", \"parent\", \"parent\", \"parent\", \"parent\", \"party\", \"party\", \"party\", \"party\", \"party\", \"patient\", \"pence\", \"people\", \"people\", \"people\", \"people\", \"people\", \"people\", \"people\", \"people\", \"people\", \"percent\", \"percent\", \"percent\", \"percent\", \"perfectly\", \"perfectly\", \"perfectly\", \"peron\", \"peron\", \"peron\", \"peronal\", \"peronal\", \"phone\", \"phone\", \"place\", \"place\", \"place\", \"place\", \"place\", \"plan\", \"plan\", \"plan\", \"plan\", \"plan\", \"plan\", \"planet\", \"planet\", \"plant\", \"plant\", \"point\", \"point\", \"point\", \"point\", \"poll\", \"poll\", \"poll\", \"pope\", \"poplation\", \"poplation\", \"porn\", \"port\", \"port\", \"power\", \"pport\", \"pport\", \"pport\", \"prchae\", \"prchae\", \"prchae\", \"precription\", \"precription\", \"preidential\", \"preidential\", \"preidential\", \"preidential\", \"preme\", \"prevent\", \"prevent\", \"previoly\", \"price\", \"price\", \"price\", \"prince\", \"prince\", \"prion\", \"prion\", \"prodct\", \"prodct\", \"profile\", \"qeen\", \"qeen\", \"qetion\", \"qetion\", \"qetion\", \"qietly\", \"qietly\", \"qietly\", \"raie\", \"raie\", \"rare\", \"rate\", \"reader\", \"reader\", \"real\", \"real\", \"real\", \"real\", \"recall\", \"recall\", \"red\", \"red\", \"red\", \"refe\", \"refe\", \"reident\", \"reident\", \"reident\", \"reident\", \"relationhip\", \"relationhip\", \"releae\", \"releae\", \"releae\", \"releae\", \"releaed\", \"repblican\", \"repblican\", \"repone\", \"repone\", \"report\", \"report\", \"report\", \"report\", \"report\", \"report\", \"report\", \"report\", \"report\", \"ret\", \"ret\", \"retarant\", \"retarant\", \"retarant\", \"retarant\", \"retrn\", \"retrn\", \"retrn\", \"retrn\", \"retrn\", \"reveal\", \"reveal\", \"reveal\", \"rge\", \"rge\", \"rge\", \"rich\", \"right\", \"right\", \"rock\", \"rock\", \"rock\", \"romney\", \"romney\", \"romney\", \"romney\", \"room\", \"room\", \"room\", \"room\", \"room\", \"room\", \"room\", \"t\", \"taff\", \"taff\", \"taffer\", \"taffer\", \"talk\", \"talk\", \"talk\", \"talk\", \"tar\", \"tar\", \"tat\", \"tat\", \"tate\", \"tate\", \"tate\", \"tate\", \"tate\", \"tate\", \"tate\", \"tate\", \"tdent\", \"tdent\", \"tdent\", \"tdent\", \"tdio\", \"tdio\", \"tdy\", \"tdy\", \"tdy\", \"tdy\", \"teacher\", \"teacher\", \"teen\", \"teen\", \"teen\", \"teen\", \"teen\", \"tep\", \"tep\", \"term\", \"term\", \"term\", \"tet\", \"tet\", \"texa\", \"tff\", \"thing\", \"thing\", \"thing\", \"thing\", \"thoand\", \"thoand\", \"thoand\", \"thoand\", \"thoght\", \"thoght\", \"thoght\", \"throne\", \"time\", \"time\", \"time\", \"time\", \"time\", \"time\", \"time\", \"time\", \"time\", \"time\", \"tip\", \"today\", \"today\", \"today\", \"today\", \"today\", \"toddler\", \"tone\", \"tone\", \"total\", \"totally\", \"totally\", \"town\", \"town\", \"town\", \"town\", \"traight\", \"traight\", \"traight\", \"trck\", \"treet\", \"treet\", \"treet\", \"trie\", \"trie\", \"trmp\", \"trmp\", \"trmp\", \"trmp\", \"trmp\", \"trmp\", \"trn\", \"trn\", \"trn\", \"trn\", \"trn\", \"tv\", \"tv\", \"tv\", \"tv\", \"vatican\", \"viit\", \"viit\", \"viit\", \"viit\", \"viit\", \"viit\", \"vote\", \"vote\", \"vote\", \"vote\", \"wahington\", \"wahington\", \"water\", \"water\", \"water\", \"way\", \"way\", \"way\", \"way\", \"way\", \"way\", \"way\", \"weapon\", \"weight\", \"weight\", \"weight\", \"well\", \"well\", \"well\", \"well\", \"white\", \"white\", \"white\", \"white\", \"white\", \"wife\", \"wife\", \"wife\", \"wife\", \"wife\", \"wihe\", \"wihe\", \"wihe\", \"wildlife\", \"wildlife\", \"withot\", \"withot\", \"withot\", \"withot\", \"woman\", \"woman\", \"woman\", \"woman\", \"woman\", \"woman\", \"woman\", \"woman\", \"word\", \"word\", \"word\", \"work\", \"work\", \"work\", \"work\", \"work\", \"work\", \"work\", \"world\", \"world\", \"world\", \"world\", \"world\", \"world\", \"worth\", \"worth\", \"worth\", \"year\", \"year\", \"year\", \"year\", \"year\", \"year\", \"york\", \"yria\", \"yria\", \"zoo\", \"zoo\"]}, \"R\": 30, \"lambda.step\": 0.01, \"plot.opts\": {\"xlab\": \"PC1\", \"ylab\": \"PC2\"}, \"topic.order\": [8, 5, 1, 9, 6, 3, 4, 10, 2, 7]};\n",
       "\n",
       "function LDAvis_load_lib(url, callback){\n",
       "  var s = document.createElement('script');\n",
       "  s.src = url;\n",
       "  s.async = true;\n",
       "  s.onreadystatechange = s.onload = callback;\n",
       "  s.onerror = function(){console.warn(\"failed to load library \" + url);};\n",
       "  document.getElementsByTagName(\"head\")[0].appendChild(s);\n",
       "}\n",
       "\n",
       "if(typeof(LDAvis) !== \"undefined\"){\n",
       "   // already loaded: just create the visualization\n",
       "   !function(LDAvis){\n",
       "       new LDAvis(\"#\" + \"ldavis_el1360019445412780966692096866\", ldavis_el1360019445412780966692096866_data);\n",
       "   }(LDAvis);\n",
       "}else if(typeof define === \"function\" && define.amd){\n",
       "   // require.js is available: use it to load d3/LDAvis\n",
       "   require.config({paths: {d3: \"https://d3js.org/d3.v5\"}});\n",
       "   require([\"d3\"], function(d3){\n",
       "      window.d3 = d3;\n",
       "      LDAvis_load_lib(\"https://cdn.jsdelivr.net/gh/bmabey/pyLDAvis@3.3.1/pyLDAvis/js/ldavis.v3.0.0.js\", function(){\n",
       "        new LDAvis(\"#\" + \"ldavis_el1360019445412780966692096866\", ldavis_el1360019445412780966692096866_data);\n",
       "      });\n",
       "    });\n",
       "}else{\n",
       "    // require.js not available: dynamically load d3 & LDAvis\n",
       "    LDAvis_load_lib(\"https://d3js.org/d3.v5.js\", function(){\n",
       "         LDAvis_load_lib(\"https://cdn.jsdelivr.net/gh/bmabey/pyLDAvis@3.3.1/pyLDAvis/js/ldavis.v3.0.0.js\", function(){\n",
       "                 new LDAvis(\"#\" + \"ldavis_el1360019445412780966692096866\", ldavis_el1360019445412780966692096866_data);\n",
       "            })\n",
       "         });\n",
       "}\n",
       "</script>"
      ],
      "text/plain": [
       "<IPython.core.display.HTML object>"
      ]
     },
     "execution_count": 91,
     "metadata": {},
     "output_type": "execute_result"
    }
   ],
   "source": [
    "pyLDAvis.display(lda_display)"
   ]
  }
 ],
 "metadata": {
  "kernelspec": {
   "display_name": "Python 3 (ipykernel)",
   "language": "python",
   "name": "python3"
  },
  "language_info": {
   "codemirror_mode": {
    "name": "ipython",
    "version": 3
   },
   "file_extension": ".py",
   "mimetype": "text/x-python",
   "name": "python",
   "nbconvert_exporter": "python",
   "pygments_lexer": "ipython3",
   "version": "3.9.15"
  }
 },
 "nbformat": 4,
 "nbformat_minor": 5
}
